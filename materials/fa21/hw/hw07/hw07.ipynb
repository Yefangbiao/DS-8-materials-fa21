{
 "cells": [
  {
   "cell_type": "code",
   "execution_count": 1,
   "metadata": {
    "deletable": false,
    "editable": false
   },
   "outputs": [],
   "source": [
    "# Initialize Otter\n",
    "import otter\n",
    "grader = otter.Notebook(\"hw07.ipynb\")"
   ]
  },
  {
   "cell_type": "markdown",
   "metadata": {},
   "source": [
    "# Homework 7: Testing Hypotheses"
   ]
  },
  {
   "cell_type": "markdown",
   "metadata": {},
   "source": [
    "**Helpful Resource:**\n",
    "- [Python Reference](http://data8.org/fa21/python-reference.html): Cheat sheet of helpful array & table methods used in Data 8!\n",
    "\n",
    "**Recommended Readings**: \n",
    "* [Random Functions guide](https://drive.google.com/file/d/1_kkBJhbS_OPEhUTSogL4syaVHkbyzKSf/view)\n",
    "* [Testing Hypotheses](https://www.inferentialthinking.com/chapters/11/Testing_Hypotheses.html)\n",
    "* [A/B Testing](https://inferentialthinking.com/chapters/12/1/AB_Testing.html)"
   ]
  },
  {
   "cell_type": "markdown",
   "metadata": {},
   "source": [
    "Please complete this notebook by filling in the cells provided. Before you begin, execute the following cell to setup the notebook by importing some helpful libraries. Each time you start your server, you will need to execute this cell again.\n",
    "\n",
    "For all problems that you must write explanations and sentences for, you **must** provide your answer in the designated space. **Moreover, throughout this homework and all future ones, please be sure to not re-assign variables throughout the notebook!** For example, if you use `max_temperature` in your answer to one question, do not reassign it later on. Otherwise, you will fail tests that you thought you were passing previously!\n",
    "\n",
    "**Deadline:**\n",
    "\n",
    "This assignment is due Thursday, 10/14 at 11:59pm PT. Turn it in by Wednesday 11:59pm PT for 5 extra credit points. Late work will not be accepted as per the [policies](http://data8.org/fa21/policies.html) page.\n",
    "\n",
    "\n",
    "**Note: This homework has hidden tests on it. That means even though tests may say 100% passed, it doesn't mean your final grade will be 100%. We will be running more tests for correctness once everyone turns in the homework.**\n",
    "\n",
    "\n",
    "Directly sharing answers is not okay, but discussing problems with the course staff or with other students is encouraged. Refer to the policies page to learn more about how to learn cooperatively.\n",
    "\n",
    "You should start early so that you have time to get help if you're stuck. Office hours are held Monday-Friday. The schedule appears on [http://data8.org/fa21/office-hours.html](http://data8.org/fa21/office-hours.html)."
   ]
  },
  {
   "cell_type": "code",
   "execution_count": 2,
   "metadata": {
    "execution": {
     "iopub.execute_input": "2021-10-07T19:25:24.879617Z",
     "iopub.status.busy": "2021-10-07T19:25:24.878448Z",
     "iopub.status.idle": "2021-10-07T19:25:26.418247Z",
     "shell.execute_reply": "2021-10-07T19:25:26.417028Z"
    }
   },
   "outputs": [],
   "source": [
    "# Run this cell to set up the notebook, but please don't change it.\n",
    "\n",
    "# These lines import the Numpy and Datascience modules.\n",
    "import numpy as np\n",
    "from datascience import *\n",
    "import d8error\n",
    "\n",
    "# These lines do some fancy plotting magic.\n",
    "import matplotlib\n",
    "%matplotlib inline\n",
    "import matplotlib.pyplot as plt\n",
    "plt.style.use('fivethirtyeight')\n",
    "import warnings\n",
    "warnings.simplefilter('ignore', FutureWarning)"
   ]
  },
  {
   "cell_type": "markdown",
   "metadata": {},
   "source": [
    "## 1. Vaccinations Across The Nation\n",
    "A vaccination clinic has two types of vaccines against a disease. Each person who comes in to be vaccinated gets either Vaccine 1 or Vaccine 2. One week, everyone who came in on Monday, Wednesday, and Friday was given Vaccine 1. Everyone who came in on Tuesday and Thursday was given Vaccine 2. The clinic is closed on weekends.\n",
    "\n",
    "Doctor Adhikari at the clinic said, \"Oh wow, it's just like tossing a coin that lands heads with chance $\\frac{3}{5}$. Heads you get Vaccine 1 and Tails you get Vaccine 2.\"\n",
    "\n",
    "But Doctor Wagner said, \"No, it's not. We're not doing anything like tossing a coin.\"\n",
    "\n",
    "That week, the clinic gave Vaccine 1 to 211 people and Vaccine 2 to 107 people. Conduct a test of hypotheses to see which doctor's position is better supported by the data."
   ]
  },
  {
   "cell_type": "markdown",
   "metadata": {
    "deletable": false,
    "editable": false
   },
   "source": [
    "**Question 1.1.** Given the information above, what was the sample size, and what was the percentage of people who got **Vaccine 1?** **(4 points)**\n",
    "\n",
    "*Note*: Your percent should be a number between 0 and 100.\n",
    "\n",
    "<!--\n",
    "BEGIN QUESTION\n",
    "name: q1_1\n",
    "manual: false\n",
    "points:\n",
    " - 0\n",
    " - 0\n",
    " - 0\n",
    " - 0\n",
    " - 2\n",
    " - 2\n",
    "-->"
   ]
  },
  {
   "cell_type": "code",
   "execution_count": 5,
   "metadata": {
    "execution": {
     "iopub.execute_input": "2021-10-07T19:25:26.425533Z",
     "iopub.status.busy": "2021-10-07T19:25:26.424508Z",
     "iopub.status.idle": "2021-10-07T19:25:26.430982Z",
     "shell.execute_reply": "2021-10-07T19:25:26.430343Z"
    }
   },
   "outputs": [
    {
     "name": "stdout",
     "output_type": "stream",
     "text": [
      "Sample Size: 318\n",
      "Vaccine 1 Percent: 66.35220125786164\n"
     ]
    }
   ],
   "source": [
    "sample_size = 211 + 107\n",
    "percent_V1 = 211 / sample_size * 100\n",
    "\n",
    "print(f\"Sample Size: {sample_size}\")\n",
    "print(f\"Vaccine 1 Percent: {percent_V1}\")"
   ]
  },
  {
   "cell_type": "code",
   "execution_count": 7,
   "metadata": {
    "deletable": false,
    "editable": false
   },
   "outputs": [
    {
     "data": {
      "text/plain": "q1_1 results: All test cases passed!",
      "text/html": "<p><strong><pre style='display: inline;'>q1_1</pre></strong> passed!</p>"
     },
     "execution_count": 7,
     "metadata": {},
     "output_type": "execute_result"
    }
   ],
   "source": [
    "grader.check(\"q1_1\")"
   ]
  },
  {
   "cell_type": "markdown",
   "metadata": {
    "deletable": false,
    "editable": false
   },
   "source": [
    "<!-- BEGIN QUESTION -->\n",
    "\n",
    "**Question 1.2.** State the null hypothesis. It should reflect the position of either Dr. Adhikari or Dr. Wagner. **(4 points)**\n",
    "\n",
    "<!--\n",
    "BEGIN QUESTION\n",
    "name: q1_2\n",
    "manual: true\n",
    "-->"
   ]
  },
  {
   "cell_type": "markdown",
   "metadata": {},
   "source": [
    "_Type your answer here, replacing this text._\n",
    "it’s just like tossing a coin that lands heads with chance"
   ]
  },
  {
   "cell_type": "markdown",
   "metadata": {
    "deletable": false,
    "editable": false
   },
   "source": [
    "<!-- END QUESTION -->\n",
    "\n",
    "<!-- BEGIN QUESTION -->\n",
    "\n",
    "**Question 3.** State the alternative hypothesis. It should reflect the position of the doctor you did not choose to represent in Question 1.2. **(4 points)**\n",
    "\n",
    "<!--\n",
    "BEGIN QUESTION\n",
    "name: q1_3\n",
    "manual: true\n",
    "-->"
   ]
  },
  {
   "cell_type": "markdown",
   "metadata": {},
   "source": [
    "_Type your answer here, replacing this text._\n",
    "No, it’s not. We’re not doing anything like tossing a coin."
   ]
  },
  {
   "cell_type": "markdown",
   "metadata": {
    "deletable": false,
    "editable": false
   },
   "source": [
    "<!-- END QUESTION -->\n",
    "\n",
    "**Question 1.4.** One of the test statistics below is appropriate for testing these hypotheses. Assign the variable `valid_test_stat` to the number corresponding to the correct test statistic. **(4 points)**\n",
    "\n",
    "1. percent of heads - 60\n",
    "2. percent of heads - 50\n",
    "3. |percent of heads - 60|\n",
    "4. |percent of heads - 50|\n",
    "\n",
    "<!--\n",
    "BEGIN QUESTION\n",
    "name: q1_4\n",
    "manual: false\n",
    "points:\n",
    " - 0\n",
    " - 0\n",
    " - 4\n",
    "-->"
   ]
  },
  {
   "cell_type": "code",
   "execution_count": 8,
   "metadata": {
    "execution": {
     "iopub.execute_input": "2021-10-07T19:25:26.511632Z",
     "iopub.status.busy": "2021-10-07T19:25:26.510605Z",
     "iopub.status.idle": "2021-10-07T19:25:26.515177Z",
     "shell.execute_reply": "2021-10-07T19:25:26.515930Z"
    }
   },
   "outputs": [
    {
     "data": {
      "text/plain": "4"
     },
     "execution_count": 8,
     "metadata": {},
     "output_type": "execute_result"
    }
   ],
   "source": [
    "valid_test_stat = 4\n",
    "valid_test_stat"
   ]
  },
  {
   "cell_type": "code",
   "execution_count": 9,
   "metadata": {
    "deletable": false,
    "editable": false
   },
   "outputs": [
    {
     "data": {
      "text/plain": "q1_4 results: All test cases passed!",
      "text/html": "<p><strong><pre style='display: inline;'>q1_4</pre></strong> passed!</p>"
     },
     "execution_count": 9,
     "metadata": {},
     "output_type": "execute_result"
    }
   ],
   "source": [
    "grader.check(\"q1_4\")"
   ]
  },
  {
   "cell_type": "markdown",
   "metadata": {
    "deletable": false,
    "editable": false
   },
   "source": [
    "**Question 1.5.** Using your answer from Questions 1.1 and 1.4, find the observed value of the test statistic and assign it to the variable `observed_statistic`. **(4 points)**\n",
    "\n",
    "<!--\n",
    "BEGIN QUESTION\n",
    "name: q1_5\n",
    "manual: false\n",
    "points:\n",
    " - 0\n",
    " - 0\n",
    " - 4\n",
    "-->"
   ]
  },
  {
   "cell_type": "code",
   "execution_count": 10,
   "metadata": {
    "execution": {
     "iopub.execute_input": "2021-10-07T19:25:26.555555Z",
     "iopub.status.busy": "2021-10-07T19:25:26.554860Z",
     "iopub.status.idle": "2021-10-07T19:25:26.559630Z",
     "shell.execute_reply": "2021-10-07T19:25:26.560497Z"
    }
   },
   "outputs": [
    {
     "data": {
      "text/plain": "16.352201257861637"
     },
     "execution_count": 10,
     "metadata": {},
     "output_type": "execute_result"
    }
   ],
   "source": [
    "observed_statistic = abs(percent_V1-50)\n",
    "observed_statistic"
   ]
  },
  {
   "cell_type": "code",
   "execution_count": 11,
   "metadata": {
    "deletable": false,
    "editable": false
   },
   "outputs": [
    {
     "data": {
      "text/plain": "q1_5 results: All test cases passed!",
      "text/html": "<p><strong><pre style='display: inline;'>q1_5</pre></strong> passed!</p>"
     },
     "execution_count": 11,
     "metadata": {},
     "output_type": "execute_result"
    }
   ],
   "source": [
    "grader.check(\"q1_5\")"
   ]
  },
  {
   "cell_type": "markdown",
   "metadata": {
    "deletable": false,
    "editable": false
   },
   "source": [
    "**Question 1.6.** In order to perform this hypothesis test, you must simulate the test statistic. From the three options below, pick the assumption that is needed for this simulation. Assign `assumption_needed` to an integer corresponding to the assumption. **(4 points)**\n",
    "\n",
    "1. The statistic must be simulated under the null hypothesis.\n",
    "2. The statistic must be simulated under the alternative hypothesis.\n",
    "3. No assumptions are needed. We can just simulate the statistic.\n",
    "\n",
    "<!--\n",
    "BEGIN QUESTION\n",
    "name: q1_6\n",
    "manual: false\n",
    "points:\n",
    " - 0\n",
    " - 0\n",
    " - 4\n",
    "-->"
   ]
  },
  {
   "cell_type": "code",
   "execution_count": 12,
   "metadata": {
    "execution": {
     "iopub.execute_input": "2021-10-07T19:25:26.600545Z",
     "iopub.status.busy": "2021-10-07T19:25:26.599833Z",
     "iopub.status.idle": "2021-10-07T19:25:26.605588Z",
     "shell.execute_reply": "2021-10-07T19:25:26.604894Z"
    }
   },
   "outputs": [
    {
     "data": {
      "text/plain": "1"
     },
     "execution_count": 12,
     "metadata": {},
     "output_type": "execute_result"
    }
   ],
   "source": [
    "assumption_needed = 1\n",
    "assumption_needed"
   ]
  },
  {
   "cell_type": "code",
   "execution_count": 13,
   "metadata": {
    "deletable": false,
    "editable": false
   },
   "outputs": [
    {
     "data": {
      "text/plain": "q1_6 results: All test cases passed!",
      "text/html": "<p><strong><pre style='display: inline;'>q1_6</pre></strong> passed!</p>"
     },
     "execution_count": 13,
     "metadata": {},
     "output_type": "execute_result"
    }
   ],
   "source": [
    "grader.check(\"q1_6\")"
   ]
  },
  {
   "cell_type": "markdown",
   "metadata": {
    "deletable": false,
    "editable": false
   },
   "source": [
    "<!-- BEGIN QUESTION -->\n",
    "\n",
    "**Question 1.7.** Simulate 20,000 values of the test statistic under the assumption you picked in Question 1.6. **(4 points)** \n",
    "\n",
    "As usual, start by defining a function that simulates one value of the statistic. Your function should use `sample_proportions`. Then write a `for` loop to simulate multiple values, and collect them in the array `simulated_statistics`. \n",
    "\n",
    "Use as many lines of code as you need. We have included the code that visualizes the distribution of the simulated values. The red dot represents the observed statistic you found in Question 1.5.\n",
    "\n",
    "<!--\n",
    "BEGIN QUESTION\n",
    "name: q1_7\n",
    "manual: true\n",
    "-->"
   ]
  },
  {
   "cell_type": "code",
   "execution_count": 16,
   "metadata": {
    "execution": {
     "iopub.execute_input": "2021-10-07T19:25:26.647570Z",
     "iopub.status.busy": "2021-10-07T19:25:26.646518Z",
     "iopub.status.idle": "2021-10-07T19:25:27.731854Z",
     "shell.execute_reply": "2021-10-07T19:25:27.731333Z"
    }
   },
   "outputs": [],
   "source": [
    "def one_simulated_statistic():\n",
    "    return sample_proportions(sample_size, np.array([3/5, 2/5])).item(0)*100\n",
    "\n",
    "num_simulations = 20000\n",
    "\n",
    "simulated_statistics = make_array()\n",
    "for _ in range(num_simulations):\n",
    "    simulated_statistics = np.append(simulated_statistics, one_simulated_statistic())"
   ]
  },
  {
   "cell_type": "code",
   "execution_count": 17,
   "metadata": {
    "execution": {
     "iopub.execute_input": "2021-10-07T19:25:27.766513Z",
     "iopub.status.busy": "2021-10-07T19:25:27.760343Z",
     "iopub.status.idle": "2021-10-07T19:25:28.018720Z",
     "shell.execute_reply": "2021-10-07T19:25:28.018215Z"
    }
   },
   "outputs": [
    {
     "data": {
      "text/plain": "<Figure size 432x288 with 1 Axes>",
      "image/png": "[encoded data removed]"
     },
     "metadata": {},
     "output_type": "display_data"
    }
   ],
   "source": [
    "# Run this cell to produce a histogram of the simulated statistics\n",
    "\n",
    "Table().with_columns('Simulated Statistic', simulated_statistics).hist()\n",
    "plt.scatter(observed_statistic, -0.002, color='red', s=40);"
   ]
  },
  {
   "cell_type": "markdown",
   "metadata": {
    "deletable": false,
    "editable": false
   },
   "source": [
    "**Question 1.8.** Using `simulated_statistics`, `observed_statistic`, and `num_simulations`, find the empirical p-value based on the simulation. **(4 points)**\n",
    "\n",
    "<!--\n",
    "BEGIN QUESTION\n",
    "name: q1_8\n",
    "manual: false\n",
    "points:\n",
    " - 0\n",
    " - 0\n",
    " - 4\n",
    "-->"
   ]
  },
  {
   "cell_type": "code",
   "execution_count": 20,
   "metadata": {
    "execution": {
     "iopub.execute_input": "2021-10-07T19:25:28.025313Z",
     "iopub.status.busy": "2021-10-07T19:25:28.024272Z",
     "iopub.status.idle": "2021-10-07T19:25:28.028601Z",
     "shell.execute_reply": "2021-10-07T19:25:28.029155Z"
    }
   },
   "outputs": [
    {
     "data": {
      "text/plain": "0.0"
     },
     "execution_count": 20,
     "metadata": {},
     "output_type": "execute_result"
    }
   ],
   "source": [
    "p_value = np.count_nonzero(simulated_statistics<observed_statistic) / num_simulations\n",
    "p_value"
   ]
  },
  {
   "cell_type": "code",
   "execution_count": 21,
   "metadata": {
    "deletable": false,
    "editable": false
   },
   "outputs": [
    {
     "data": {
      "text/plain": "q1_8 results: All test cases passed!",
      "text/html": "<p><strong><pre style='display: inline;'>q1_8</pre></strong> passed!</p>"
     },
     "execution_count": 21,
     "metadata": {},
     "output_type": "execute_result"
    }
   ],
   "source": [
    "grader.check(\"q1_8\")"
   ]
  },
  {
   "cell_type": "markdown",
   "metadata": {
    "deletable": false,
    "editable": false
   },
   "source": [
    "**Question 1.9.** Assign `correct_doctor` to the number corresponding to the correct statement below. Use the 5% cutoff for the p-value. **(4 points)**\n",
    "\n",
    "1. The data support Dr. Adhikari's position more than they support Dr. Wagner's.\n",
    "2. The data support Dr. Wagner's position more than they support Dr. Adhikari's.\n",
    "\n",
    "As a reminder, here are the two claims made by Dr. Adhikari and Dr. Wagner:\n",
    "> **Doctor Adhikari:** \"Oh wow, it's just like tossing a coin that lands heads with chance $\\frac{3}{5}$. Heads you get Vaccine 1 and Tails you get Vaccine 2.\"\n",
    "\n",
    ">**Doctor Wagner:** \"No, it's not. We're not doing anything like tossing a coin.\"\n",
    "\n",
    "<!--\n",
    "BEGIN QUESTION\n",
    "name: q1_9\n",
    "manual: false\n",
    "points:\n",
    " - 0\n",
    " - 0\n",
    " - 4\n",
    "-->"
   ]
  },
  {
   "cell_type": "code",
   "execution_count": 22,
   "metadata": {
    "execution": {
     "iopub.execute_input": "2021-10-07T19:25:28.068883Z",
     "iopub.status.busy": "2021-10-07T19:25:28.067895Z",
     "iopub.status.idle": "2021-10-07T19:25:28.072674Z",
     "shell.execute_reply": "2021-10-07T19:25:28.071701Z"
    }
   },
   "outputs": [
    {
     "data": {
      "text/plain": "2"
     },
     "execution_count": 22,
     "metadata": {},
     "output_type": "execute_result"
    }
   ],
   "source": [
    "correct_doctor = 2\n",
    "correct_doctor"
   ]
  },
  {
   "cell_type": "code",
   "execution_count": 23,
   "metadata": {
    "deletable": false,
    "editable": false
   },
   "outputs": [
    {
     "data": {
      "text/plain": "q1_9 results: All test cases passed!",
      "text/html": "<p><strong><pre style='display: inline;'>q1_9</pre></strong> passed!</p>"
     },
     "execution_count": 23,
     "metadata": {},
     "output_type": "execute_result"
    }
   ],
   "source": [
    "grader.check(\"q1_9\")"
   ]
  },
  {
   "cell_type": "markdown",
   "metadata": {},
   "source": [
    "## 2. Using TVD as a Test Statistic\n",
    "\n",
    "Before beginning this section, please read [this section](https://inferentialthinking.com/chapters/11/2/Multiple_Categories.html#a-new-statistic-the-distance-between-two-distributions) of the textbook on TVD!"
   ]
  },
  {
   "cell_type": "markdown",
   "metadata": {},
   "source": [
    "Total variation distance (TVD) is a special type of test statistic that we use when we want to compare two distributions of categorical data. It is often used when we observe that a set of observed proportions/probabilities is different than what we expect under the null model. \n",
    "\n",
    "Consider a six-sided die that we roll 6,000 times. If the die is fair, we would expect that each face comes up $\\frac{1}{6}$ of the time. By random chance, a fair die won't always result in equal proportions (that is, we won't get exactly 1000 of each face). However, if we suspect that the die might be unfair based on the data, we can conduct a hypothesis test using TVD to compare the expected [$\\frac{1}{6}$, $\\frac{1}{6}$, $\\frac{1}{6}$, $\\frac{1}{6}$, $\\frac{1}{6}$, $\\frac{1}{6}$] distribution to what is actually observed.\n",
    "\n",
    "In this part of the homework, we'll look at how we can use TVD to determine the effect that different factors have on happiness. \n",
    "\n",
    "We will be working with data from the [Gallup World Poll](https://www.gallup.com/analytics/349487/gallup-global-happiness-center.aspx#:~:text=World%20Happiness%20Report&text=Using%20the%20Gallup%20World%20Poll,about%20the%20World%20Happiness%20Report.) that is presented in the World Happiness Report, a survey of the state of global happiness. The survey ranked 155 countries by overall happiness and estimated the influence that economic production, social support, life expectancy, freedom, absence of corruption, and generosity had on population happiness. The study has been repeated for several years - we'll be looking at data from the 2016 survey. **Run the cell below to load in the `happiness_scores` table.**"
   ]
  },
  {
   "cell_type": "code",
   "execution_count": 25,
   "metadata": {
    "execution": {
     "iopub.execute_input": "2021-10-07T19:25:28.121810Z",
     "iopub.status.busy": "2021-10-07T19:25:28.120791Z",
     "iopub.status.idle": "2021-10-07T19:25:28.131751Z",
     "shell.execute_reply": "2021-10-07T19:25:28.132324Z"
    }
   },
   "outputs": [
    {
     "data": {
      "text/plain": "<IPython.core.display.HTML object>",
      "text/html": "<table border=\"1\" class=\"dataframe\">\n    <thead>\n        <tr>\n            <th>Country</th> <th>Region</th> <th>Happiness Rank</th> <th>Happiness Score</th> <th>Lower Confidence Interval</th> <th>Upper Confidence Interval</th> <th>Economy (GDP per Capita)</th> <th>Family</th> <th>Health (Life Expectancy)</th> <th>Freedom</th> <th>Trust (Government Corruption)</th> <th>Generosity</th>\n        </tr>\n    </thead>\n    <tbody>\n        <tr>\n            <td>Denmark    </td> <td>Western Europe</td> <td>1             </td> <td>7.526          </td> <td>7.46                     </td> <td>7.592                    </td> <td>1.44178                 </td> <td>1.16374</td> <td>0.79504                 </td> <td>0.57941</td> <td>0.44453                      </td> <td>0.36171   </td>\n        </tr>\n        <tr>\n            <td>Switzerland</td> <td>Western Europe</td> <td>2             </td> <td>7.509          </td> <td>7.428                    </td> <td>7.59                     </td> <td>1.52733                 </td> <td>1.14524</td> <td>0.86303                 </td> <td>0.58557</td> <td>0.41203                      </td> <td>0.28083   </td>\n        </tr>\n        <tr>\n            <td>Iceland    </td> <td>Western Europe</td> <td>3             </td> <td>7.501          </td> <td>7.333                    </td> <td>7.669                    </td> <td>1.42666                 </td> <td>1.18326</td> <td>0.86733                 </td> <td>0.56624</td> <td>0.14975                      </td> <td>0.47678   </td>\n        </tr>\n        <tr>\n            <td>Norway     </td> <td>Western Europe</td> <td>4             </td> <td>7.498          </td> <td>7.421                    </td> <td>7.575                    </td> <td>1.57744                 </td> <td>1.1269 </td> <td>0.79579                 </td> <td>0.59609</td> <td>0.35776                      </td> <td>0.37895   </td>\n        </tr>\n        <tr>\n            <td>Finland    </td> <td>Western Europe</td> <td>5             </td> <td>7.413          </td> <td>7.351                    </td> <td>7.475                    </td> <td>1.40598                 </td> <td>1.13464</td> <td>0.81091                 </td> <td>0.57104</td> <td>0.41004                      </td> <td>0.25492   </td>\n        </tr>\n    </tbody>\n</table>\n<p>... (152 rows omitted)</p>"
     },
     "metadata": {},
     "output_type": "display_data"
    }
   ],
   "source": [
    "happiness_scores = Table.read_table(\"happiness_scores.csv\")\n",
    "happiness_scores.show(5)"
   ]
  },
  {
   "cell_type": "markdown",
   "metadata": {},
   "source": [
    "Participants in the study were asked to evaluate their life satisfaction from a scale of 0 (worst possible life) to 10 (best possible life). The responses for each country were averaged to create the `Happiness Score`.\n",
    "\n",
    "The columns `Economy (GDP per Capita)`, `Family`, `Health (Life Expectancy)`, `Freedom`, `Trust (Government Corruption)`, and `Generosity` estimate the extent to which each factor influences happiness, both for better or for worse. The higher the value, the more influential that factor was in calculating the country's happiness score. If you add up all the factors (in addition to a \"Difference from Dystopia\" value we excluded in the dataset), you get the happiness score.\n",
    "\n",
    "Let's look at the different factors that affect happiness in the United States. Run the cell below to view the row in `us_happiness` that contains data for the United States."
   ]
  },
  {
   "cell_type": "code",
   "execution_count": 29,
   "metadata": {
    "execution": {
     "iopub.execute_input": "2021-10-07T19:25:28.223075Z",
     "iopub.status.busy": "2021-10-07T19:25:28.222479Z",
     "iopub.status.idle": "2021-10-07T19:25:28.227004Z",
     "shell.execute_reply": "2021-10-07T19:25:28.227606Z"
    }
   },
   "outputs": [
    {
     "data": {
      "text/plain": "Country       | Region        | Happiness Rank | Happiness Score | Lower Confidence Interval | Upper Confidence Interval | Economy (GDP per Capita) | Family  | Health (Life Expectancy) | Freedom | Trust (Government Corruption) | Generosity\nUnited States | North America | 13             | 7.104           | 7.02                      | 7.188                     | 1.50796                  | 1.04782 | 0.779                    | 0.48163 | 0.14868                       | 0.41077",
      "text/html": "<table border=\"1\" class=\"dataframe\">\n    <thead>\n        <tr>\n            <th>Country</th> <th>Region</th> <th>Happiness Rank</th> <th>Happiness Score</th> <th>Lower Confidence Interval</th> <th>Upper Confidence Interval</th> <th>Economy (GDP per Capita)</th> <th>Family</th> <th>Health (Life Expectancy)</th> <th>Freedom</th> <th>Trust (Government Corruption)</th> <th>Generosity</th>\n        </tr>\n    </thead>\n    <tbody>\n        <tr>\n            <td>United States</td> <td>North America</td> <td>13            </td> <td>7.104          </td> <td>7.02                     </td> <td>7.188                    </td> <td>1.50796                 </td> <td>1.04782</td> <td>0.779                   </td> <td>0.48163</td> <td>0.14868                      </td> <td>0.41077   </td>\n        </tr>\n    </tbody>\n</table>"
     },
     "execution_count": 29,
     "metadata": {},
     "output_type": "execute_result"
    }
   ],
   "source": [
    "us_happiness = happiness_scores.where(\"Country\", \"United States\")\n",
    "us_happiness"
   ]
  },
  {
   "cell_type": "markdown",
   "metadata": {},
   "source": [
    "To compare the different factors, we'll look at the proportion of the happiness score that is attributed to each variable. \n",
    "You can find these proportions in the table `us_happiness_factors` after running the cell below.\n",
    "\n",
    "*Note:* The factors shown in `us_happiness` don't add up exactly to the happiness score, so we adjusted the proportions to  only account for the data we have access to. The proportions were found by dividing each Happiness Factor value by the sum of all Happiness Factor values in `us_happiness`."
   ]
  },
  {
   "cell_type": "code",
   "execution_count": 31,
   "metadata": {
    "execution": {
     "iopub.execute_input": "2021-10-07T19:25:28.232652Z",
     "iopub.status.busy": "2021-10-07T19:25:28.232014Z",
     "iopub.status.idle": "2021-10-07T19:25:28.240834Z",
     "shell.execute_reply": "2021-10-07T19:25:28.240303Z"
    }
   },
   "outputs": [
    {
     "data": {
      "text/plain": "Happiness Factor              | Proportion of Happiness Score\nEconomy (GDP per Capita)      | 0.344609\nFamily                        | 0.239455\nHealth (Life Expectancy)      | 0.178022\nFreedom                       | 0.110065\nTrust (Government Corruption) | 0.0339773\nGenerosity                    | 0.0938718",
      "text/html": "<table border=\"1\" class=\"dataframe\">\n    <thead>\n        <tr>\n            <th>Happiness Factor</th> <th>Proportion of Happiness Score</th>\n        </tr>\n    </thead>\n    <tbody>\n        <tr>\n            <td>Economy (GDP per Capita)     </td> <td>0.344609                     </td>\n        </tr>\n        <tr>\n            <td>Family                       </td> <td>0.239455                     </td>\n        </tr>\n        <tr>\n            <td>Health (Life Expectancy)     </td> <td>0.178022                     </td>\n        </tr>\n        <tr>\n            <td>Freedom                      </td> <td>0.110065                     </td>\n        </tr>\n        <tr>\n            <td>Trust (Government Corruption)</td> <td>0.0339773                    </td>\n        </tr>\n        <tr>\n            <td>Generosity                   </td> <td>0.0938718                    </td>\n        </tr>\n    </tbody>\n</table>"
     },
     "execution_count": 31,
     "metadata": {},
     "output_type": "execute_result"
    }
   ],
   "source": [
    "us_happiness_factors = Table().read_table(\"us_happiness_factors.csv\")\n",
    "us_happiness_factors"
   ]
  },
  {
   "cell_type": "markdown",
   "metadata": {
    "deletable": false,
    "editable": false
   },
   "source": [
    "<!-- BEGIN QUESTION -->\n",
    "\n",
    "**Question 2.1.** Suppose we want to test whether or not each factor contributes the same amount to the overall Happiness Score. Define the null hypothesis, alternative hypothesis, and test statistic in the cell below. Check your work with a neighbor, LA, or uGSI. **(4 points)**\n",
    "\n",
    "*Note:* Please format your answer as follows:\n",
    "- Null Hypothesis: ...  \n",
    "- Alternative Hypothesis: ...  \n",
    "- Test Statistic: ...  \n",
    "\n",
    "<!--\n",
    "BEGIN QUESTION\n",
    "name: q2_1\n",
    "manual: true\n",
    "-->"
   ]
  },
  {
   "cell_type": "markdown",
   "metadata": {},
   "source": [
    "_Type your answer here, replacing this text._"
   ]
  },
  {
   "cell_type": "markdown",
   "metadata": {
    "deletable": false,
    "editable": false
   },
   "source": [
    "<!-- END QUESTION -->\n",
    "\n",
    "**Question 2.2.** Write a function `calculate_tvd` that takes in the observed distribution (`obs_dist`) and expected distribution under the null hypothesis (`null_dist`) and calculates the total variation distance. Use this function to set `observed_tvd` to be equal to the observed test statistic. **(4 points)**\n",
    "\n",
    "<!--\n",
    "BEGIN QUESTION\n",
    "name: q2_2\n",
    "manual: false\n",
    "points:\n",
    " - 2\n",
    " - 2\n",
    "-->"
   ]
  },
  {
   "cell_type": "code",
   "execution_count": 53,
   "metadata": {
    "execution": {
     "iopub.execute_input": "2021-10-07T19:25:28.248286Z",
     "iopub.status.busy": "2021-10-07T19:25:28.247527Z",
     "iopub.status.idle": "2021-10-07T19:25:28.252592Z",
     "shell.execute_reply": "2021-10-07T19:25:28.251965Z"
    }
   },
   "outputs": [
    {
     "data": {
      "text/plain": "0.26208562431156396"
     },
     "execution_count": 53,
     "metadata": {},
     "output_type": "execute_result"
    }
   ],
   "source": [
    "null_distribution = np.ones(6) * (1/6)\n",
    "\n",
    "def calculate_tvd(obs_dist, null_dist):\n",
    "    return sum(abs(obs_dist - null_dist)) / 2\n",
    "    \n",
    "observed_tvd = calculate_tvd(us_happiness_factors.column(1), null_distribution)\n",
    "observed_tvd"
   ]
  },
  {
   "cell_type": "code",
   "execution_count": 54,
   "metadata": {
    "deletable": false,
    "editable": false
   },
   "outputs": [
    {
     "data": {
      "text/plain": "q2_2 results: All test cases passed!",
      "text/html": "<p><strong><pre style='display: inline;'>q2_2</pre></strong> passed!</p>"
     },
     "execution_count": 54,
     "metadata": {},
     "output_type": "execute_result"
    }
   ],
   "source": [
    "grader.check(\"q2_2\")"
   ]
  },
  {
   "cell_type": "markdown",
   "metadata": {
    "deletable": false,
    "editable": false
   },
   "source": [
    "**Question 2.3.** Create an array called `simulated_tvds` that contains 10,000 simulated values under the null hypothesis. Assume that the original sample consisted of 1,000 individuals. **(4 points)**\n",
    "\n",
    "*Hint:* The `sample_proportions` function may be helpful to you. Refer to the [Python Reference sheet](http://data8.org/fa21/python-reference.html#:~:text=sample_proportions(sample_size%2C%20model_proportions)) to read up on it!\n",
    "\n",
    "<!--\n",
    "BEGIN QUESTION\n",
    "name: q2_3\n",
    "manual: false\n",
    "points:\n",
    " - 1\n",
    " - 1\n",
    " - 1\n",
    " - 1\n",
    "-->"
   ]
  },
  {
   "cell_type": "code",
   "execution_count": 57,
   "metadata": {
    "execution": {
     "iopub.execute_input": "2021-10-07T19:25:28.286823Z",
     "iopub.status.busy": "2021-10-07T19:25:28.280000Z",
     "iopub.status.idle": "2021-10-07T19:25:28.844680Z",
     "shell.execute_reply": "2021-10-07T19:25:28.844009Z"
    }
   },
   "outputs": [],
   "source": [
    "simulated_tvds = make_array()\n",
    "\n",
    "for _ in range(10000):\n",
    "    simulated_tvds = np.append(simulated_tvds, calculate_tvd(sample_proportions(1000, null_distribution),null_distribution))"
   ]
  },
  {
   "cell_type": "code",
   "execution_count": 58,
   "metadata": {
    "deletable": false,
    "editable": false
   },
   "outputs": [
    {
     "data": {
      "text/plain": "q2_3 results: All test cases passed!",
      "text/html": "<p><strong><pre style='display: inline;'>q2_3</pre></strong> passed!</p>"
     },
     "execution_count": 58,
     "metadata": {},
     "output_type": "execute_result"
    }
   ],
   "source": [
    "grader.check(\"q2_3\")"
   ]
  },
  {
   "cell_type": "markdown",
   "metadata": {},
   "source": [
    "Run the cell below to plot a histogram of your simulated test statistics, as well as the observed value of the test statistic."
   ]
  },
  {
   "cell_type": "code",
   "execution_count": 59,
   "metadata": {
    "execution": {
     "iopub.execute_input": "2021-10-07T19:25:28.922166Z",
     "iopub.status.busy": "2021-10-07T19:25:28.908018Z",
     "iopub.status.idle": "2021-10-07T19:25:29.137898Z",
     "shell.execute_reply": "2021-10-07T19:25:29.138672Z"
    }
   },
   "outputs": [
    {
     "data": {
      "text/plain": "<Figure size 432x288 with 1 Axes>",
      "image/png": "[encoded data removed]"
     },
     "metadata": {},
     "output_type": "display_data"
    }
   ],
   "source": [
    "Table().with_column(\"Simulated TVDs\", simulated_tvds).hist()\n",
    "plt.scatter(observed_tvd, 0, color='red', s=70, zorder=2);\n",
    "plt.show();"
   ]
  },
  {
   "cell_type": "markdown",
   "metadata": {
    "deletable": false,
    "editable": false
   },
   "source": [
    "**Question 2.4.** Use your simulated statistics to calculate the p-value of your test. Make sure that this number is consistent with what you observed in the histogram above. **(4 points)**\n",
    "\n",
    "<!--\n",
    "BEGIN QUESTION\n",
    "name: q2_4\n",
    "manual: false\n",
    "points:\n",
    " - 4\n",
    "-->"
   ]
  },
  {
   "cell_type": "code",
   "execution_count": 61,
   "metadata": {
    "execution": {
     "iopub.execute_input": "2021-10-07T19:25:29.147288Z",
     "iopub.status.busy": "2021-10-07T19:25:29.146306Z",
     "iopub.status.idle": "2021-10-07T19:25:29.152503Z",
     "shell.execute_reply": "2021-10-07T19:25:29.151487Z"
    }
   },
   "outputs": [
    {
     "data": {
      "text/plain": "0.0"
     },
     "execution_count": 61,
     "metadata": {},
     "output_type": "execute_result"
    }
   ],
   "source": [
    "p_value_tvd = np.count_nonzero(simulated_tvds>observed_statistic)/10000\n",
    "p_value_tvd"
   ]
  },
  {
   "cell_type": "code",
   "execution_count": 62,
   "metadata": {
    "deletable": false,
    "editable": false
   },
   "outputs": [
    {
     "data": {
      "text/plain": "q2_4 results: All test cases passed!",
      "text/html": "<p><strong><pre style='display: inline;'>q2_4</pre></strong> passed!</p>"
     },
     "execution_count": 62,
     "metadata": {},
     "output_type": "execute_result"
    }
   ],
   "source": [
    "grader.check(\"q2_4\")"
   ]
  },
  {
   "cell_type": "markdown",
   "metadata": {
    "deletable": false,
    "editable": false
   },
   "source": [
    "<!-- BEGIN QUESTION -->\n",
    "\n",
    "**Question 2.5.** What can you conclude about how each factor contributes to the overall happiness score in the US? Explain your answer using the results of your hypothesis test. Assume a p-value cutoff of 5%. **(4 points)**\n",
    "\n",
    "<!--\n",
    "BEGIN QUESTION\n",
    "name: q2_5\n",
    "manual: true\n",
    "-->"
   ]
  },
  {
   "cell_type": "markdown",
   "metadata": {},
   "source": [
    "_Type your answer here, replacing this text._"
   ]
  },
  {
   "cell_type": "markdown",
   "metadata": {
    "deletable": false,
    "editable": false
   },
   "source": [
    "<!-- END QUESTION -->"
   ]
  },
  {
   "cell_type": "markdown",
   "metadata": {},
   "source": [
    "## 3. Who is Older?\n",
    "\n",
    "Data scientists have drawn a simple random sample of size 500 from a large population of adults. Each member of the population happened to identify as either \"male\" or \"female\". Data was collected on several attributes of the sampled people, including age. The table `sampled_ages` contains one row for each person in the sample, with columns containing the individual's gender identity."
   ]
  },
  {
   "cell_type": "code",
   "execution_count": 63,
   "metadata": {
    "execution": {
     "iopub.execute_input": "2021-10-07T19:25:29.186667Z",
     "iopub.status.busy": "2021-10-07T19:25:29.185844Z",
     "iopub.status.idle": "2021-10-07T19:25:29.199632Z",
     "shell.execute_reply": "2021-10-07T19:25:29.198794Z"
    }
   },
   "outputs": [
    {
     "data": {
      "text/plain": "<IPython.core.display.HTML object>",
      "text/html": "<table border=\"1\" class=\"dataframe\">\n    <thead>\n        <tr>\n            <th>Gender</th> <th>Age</th>\n        </tr>\n    </thead>\n    <tbody>\n        <tr>\n            <td>male  </td> <td>23  </td>\n        </tr>\n        <tr>\n            <td>male  </td> <td>29  </td>\n        </tr>\n        <tr>\n            <td>male  </td> <td>29  </td>\n        </tr>\n        <tr>\n            <td>female</td> <td>49  </td>\n        </tr>\n        <tr>\n            <td>female</td> <td>33  </td>\n        </tr>\n    </tbody>\n</table>\n<p>... (495 rows omitted)</p>"
     },
     "metadata": {},
     "output_type": "display_data"
    }
   ],
   "source": [
    "sampled_ages = Table.read_table('age.csv')\n",
    "sampled_ages.show(5)"
   ]
  },
  {
   "cell_type": "markdown",
   "metadata": {
    "deletable": false,
    "editable": false
   },
   "source": [
    "**Question 3.1.** How many females were there in our sample? Keep in mind that `group` sorts categories in alphabetical order. **(4 points)**\n",
    "\n",
    "<!--\n",
    "BEGIN QUESTION\n",
    "name: q3_1\n",
    "manual: false\n",
    "points:\n",
    " - 0\n",
    " - 4\n",
    "-->"
   ]
  },
  {
   "cell_type": "code",
   "execution_count": 80,
   "metadata": {
    "execution": {
     "iopub.execute_input": "2021-10-07T19:25:29.251027Z",
     "iopub.status.busy": "2021-10-07T19:25:29.250368Z",
     "iopub.status.idle": "2021-10-07T19:25:29.255879Z",
     "shell.execute_reply": "2021-10-07T19:25:29.255305Z"
    }
   },
   "outputs": [
    {
     "data": {
      "text/plain": "260"
     },
     "execution_count": 80,
     "metadata": {},
     "output_type": "execute_result"
    }
   ],
   "source": [
    "num_females = sampled_ages.group('Gender').row(0)[1]\n",
    "num_females"
   ]
  },
  {
   "cell_type": "code",
   "execution_count": 81,
   "metadata": {
    "deletable": false,
    "editable": false
   },
   "outputs": [
    {
     "data": {
      "text/plain": "q3_1 results: All test cases passed!",
      "text/html": "<p><strong><pre style='display: inline;'>q3_1</pre></strong> passed!</p>"
     },
     "execution_count": 81,
     "metadata": {},
     "output_type": "execute_result"
    }
   ],
   "source": [
    "grader.check(\"q3_1\")"
   ]
  },
  {
   "cell_type": "markdown",
   "metadata": {
    "deletable": false,
    "editable": false
   },
   "source": [
    "**Question 3.2.** Complete the cell below so that `avg_male_vs_female` evaluates to `True` if the sampled males are older than the sampled females on average, and `False` otherwise. Use Python code to achieve this. **(4 points)**\n",
    "\n",
    "<!--\n",
    "BEGIN QUESTION\n",
    "name: q3_2\n",
    "manual: false\n",
    "points:\n",
    " - 0\n",
    " - 4\n",
    "-->"
   ]
  },
  {
   "cell_type": "code",
   "execution_count": 85,
   "metadata": {
    "execution": {
     "iopub.execute_input": "2021-10-07T19:25:29.324435Z",
     "iopub.status.busy": "2021-10-07T19:25:29.323341Z",
     "iopub.status.idle": "2021-10-07T19:25:29.327700Z",
     "shell.execute_reply": "2021-10-07T19:25:29.328544Z"
    }
   },
   "outputs": [
    {
     "data": {
      "text/plain": "True"
     },
     "execution_count": 85,
     "metadata": {},
     "output_type": "execute_result"
    }
   ],
   "source": [
    "group_mean_tbl = sampled_ages.group('Gender', collect=np.mean)\n",
    "group_means = group_mean_tbl.column(1)       # array of mean ages\n",
    "avg_male_vs_female = group_means.item(1) > group_means.item(0)\n",
    "avg_male_vs_female"
   ]
  },
  {
   "cell_type": "code",
   "execution_count": 86,
   "metadata": {
    "deletable": false,
    "editable": false
   },
   "outputs": [
    {
     "data": {
      "text/plain": "q3_2 results: All test cases passed!",
      "text/html": "<p><strong><pre style='display: inline;'>q3_2</pre></strong> passed!</p>"
     },
     "execution_count": 86,
     "metadata": {},
     "output_type": "execute_result"
    }
   ],
   "source": [
    "grader.check(\"q3_2\")"
   ]
  },
  {
   "cell_type": "markdown",
   "metadata": {
    "deletable": false,
    "editable": false
   },
   "source": [
    "**Question 3.3.** The data scientists want to use the data to test whether males are older than females or, in other words, whether the ages of the two groups have the same distribution. One of the following statements is their null hypothesis and another is their alternative hypothesis. Assign `null_statement_number` and `alternative_statement_number` to the numbers of the correct statements in the code cell below. **(4 points)**\n",
    "\n",
    "1. In the sample, the males and females have the same distribution of ages; the sample averages of the two groups are different due to chance.\n",
    "2. In the population, the males and females have the same distribution of ages; the sample averages of the two groups are different due to chance.\n",
    "3. The age distributions of males and females in the population are different due to chance.\n",
    "4. The males in the sample are older than the females, on average.\n",
    "5. The males in the population are older than the females, on average.\n",
    "6. The average ages of the males and females in the population are different.\n",
    "\n",
    "<!--\n",
    "BEGIN QUESTION\n",
    "name: q3_3\n",
    "manual: false\n",
    "points:\n",
    " - 0\n",
    " - 0\n",
    " - 0\n",
    " - 0\n",
    " - 0\n",
    " - 2\n",
    " - 2\n",
    "-->"
   ]
  },
  {
   "cell_type": "code",
   "execution_count": 87,
   "metadata": {
    "execution": {
     "iopub.execute_input": "2021-10-07T19:25:29.359127Z",
     "iopub.status.busy": "2021-10-07T19:25:29.358140Z",
     "iopub.status.idle": "2021-10-07T19:25:29.362498Z",
     "shell.execute_reply": "2021-10-07T19:25:29.361491Z"
    }
   },
   "outputs": [],
   "source": [
    "null_statement_number = 2\n",
    "alternative_statement_number = 5"
   ]
  },
  {
   "cell_type": "code",
   "execution_count": 88,
   "metadata": {
    "deletable": false,
    "editable": false
   },
   "outputs": [
    {
     "data": {
      "text/plain": "q3_3 results: All test cases passed!",
      "text/html": "<p><strong><pre style='display: inline;'>q3_3</pre></strong> passed!</p>"
     },
     "execution_count": 88,
     "metadata": {},
     "output_type": "execute_result"
    }
   ],
   "source": [
    "grader.check(\"q3_3\")"
   ]
  },
  {
   "cell_type": "markdown",
   "metadata": {
    "deletable": false,
    "editable": false
   },
   "source": [
    "**Question 3.4.** The data scientists have decided to use a permutation test. Assign `permutation_test_reason` to the number corresponding to the reason they made this choice. **(4 points)**\n",
    "\n",
    "1. Since a person's age can't be related to their gender under the null hypothesis, it doesn't matter who is labeled \"male\" and who is labeled \"female\", so you can use permutations.\n",
    "2. Under the null hypothesis, permuting the labels in the `sampled_ages` table is equivalent to drawing a new random sample with the same number of males and females as in the original sample.\n",
    "3. Under the null hypothesis, permuting the rows of `sampled_ages` table is equivalent to drawing a new random sample with the same number of males and females as in the original sample.\n",
    "\n",
    "<!--\n",
    "BEGIN QUESTION\n",
    "name: q3_4\n",
    "manual: false\n",
    "points:\n",
    " - 0\n",
    " - 0\n",
    " - 4\n",
    "-->"
   ]
  },
  {
   "cell_type": "code",
   "execution_count": 89,
   "metadata": {
    "execution": {
     "iopub.execute_input": "2021-10-07T19:25:29.454239Z",
     "iopub.status.busy": "2021-10-07T19:25:29.453235Z",
     "iopub.status.idle": "2021-10-07T19:25:29.458197Z",
     "shell.execute_reply": "2021-10-07T19:25:29.458987Z"
    }
   },
   "outputs": [
    {
     "data": {
      "text/plain": "1"
     },
     "execution_count": 89,
     "metadata": {},
     "output_type": "execute_result"
    }
   ],
   "source": [
    "permutation_test_reason = 1\n",
    "permutation_test_reason"
   ]
  },
  {
   "cell_type": "code",
   "execution_count": 90,
   "metadata": {
    "deletable": false,
    "editable": false
   },
   "outputs": [
    {
     "data": {
      "text/plain": "q3_4 results: All test cases passed!",
      "text/html": "<p><strong><pre style='display: inline;'>q3_4</pre></strong> passed!</p>"
     },
     "execution_count": 90,
     "metadata": {},
     "output_type": "execute_result"
    }
   ],
   "source": [
    "grader.check(\"q3_4\")"
   ]
  },
  {
   "cell_type": "markdown",
   "metadata": {
    "deletable": false,
    "editable": false
   },
   "source": [
    "**Question 3.5.** To test their hypotheses, the data scientists have followed our textbook's advice and chosen a test statistic where the following statement is true: Large values of the test statistic favor the alternative hypothesis.\n",
    "\n",
    "The data scientists' test statistic is one of the two options below. Which one is it? Assign the appropriate number to the variable `correct_test_stat`. **(4 points)**\n",
    "\n",
    "1. \"male age average - female age average\" in a sample created by randomly shuffling the male/female labels\n",
    "2. \"|male age average - female age average|\" in a sample created by randomly shuffling the male/female labels\n",
    "\n",
    "<!--\n",
    "BEGIN QUESTION\n",
    "name: q3_5\n",
    "manual: false\n",
    "points:\n",
    " - 0\n",
    " - 0\n",
    " - 4\n",
    "-->"
   ]
  },
  {
   "cell_type": "code",
   "execution_count": 91,
   "metadata": {
    "execution": {
     "iopub.execute_input": "2021-10-07T19:25:29.507358Z",
     "iopub.status.busy": "2021-10-07T19:25:29.506586Z",
     "iopub.status.idle": "2021-10-07T19:25:29.511825Z",
     "shell.execute_reply": "2021-10-07T19:25:29.511014Z"
    }
   },
   "outputs": [
    {
     "data": {
      "text/plain": "1"
     },
     "execution_count": 91,
     "metadata": {},
     "output_type": "execute_result"
    }
   ],
   "source": [
    "correct_test_stat = 1\n",
    "correct_test_stat"
   ]
  },
  {
   "cell_type": "code",
   "execution_count": 92,
   "metadata": {
    "deletable": false,
    "editable": false
   },
   "outputs": [
    {
     "data": {
      "text/plain": "q3_5 results: All test cases passed!",
      "text/html": "<p><strong><pre style='display: inline;'>q3_5</pre></strong> passed!</p>"
     },
     "execution_count": 92,
     "metadata": {},
     "output_type": "execute_result"
    }
   ],
   "source": [
    "grader.check(\"q3_5\")"
   ]
  },
  {
   "cell_type": "markdown",
   "metadata": {
    "deletable": false,
    "editable": false
   },
   "source": [
    "**Question 3.6.** Complete the cell below so that `observed_statistic_ab` evaluates to the observed value of the data scientists' test statistic. Use as many lines of code as you need, and remember that you can use any quantity, table, or array that you created earlier. **(4 points)**\n",
    "\n",
    "<!--\n",
    "BEGIN QUESTION\n",
    "name: q3_6\n",
    "manual: false\n",
    "points:\n",
    " - 0\n",
    " - 0\n",
    " - 4\n",
    "-->"
   ]
  },
  {
   "cell_type": "code",
   "execution_count": 97,
   "metadata": {
    "execution": {
     "iopub.execute_input": "2021-10-07T19:25:29.561353Z",
     "iopub.status.busy": "2021-10-07T19:25:29.560407Z",
     "iopub.status.idle": "2021-10-07T19:25:29.565629Z",
     "shell.execute_reply": "2021-10-07T19:25:29.566101Z"
    }
   },
   "outputs": [
    {
     "data": {
      "text/plain": "1.314102564102562"
     },
     "execution_count": 97,
     "metadata": {},
     "output_type": "execute_result"
    }
   ],
   "source": [
    "aver = sampled_ages.group('Gender', np.average).column(1)\n",
    "observed_statistic_ab = aver.item(1) - aver.item(0)\n",
    "observed_statistic_ab"
   ]
  },
  {
   "cell_type": "code",
   "execution_count": 98,
   "metadata": {
    "deletable": false,
    "editable": false
   },
   "outputs": [
    {
     "data": {
      "text/plain": "q3_6 results: All test cases passed!",
      "text/html": "<p><strong><pre style='display: inline;'>q3_6</pre></strong> passed!</p>"
     },
     "execution_count": 98,
     "metadata": {},
     "output_type": "execute_result"
    }
   ],
   "source": [
    "grader.check(\"q3_6\")"
   ]
  },
  {
   "cell_type": "markdown",
   "metadata": {
    "deletable": false,
    "editable": false
   },
   "source": [
    "**Question 3.7.** Assign `shuffled_labels` to an array of shuffled male/female labels. The rest of the code puts the array in a table along with the data in `sampled_ages`. **(4 points)**\n",
    "\n",
    "<!--\n",
    "BEGIN QUESTION\n",
    "name: q3_7\n",
    "manual: false\n",
    "points:\n",
    " - 0\n",
    " - 0\n",
    " - 0\n",
    " - 1\n",
    " - 1\n",
    " - 1\n",
    " - 1\n",
    "-->"
   ]
  },
  {
   "cell_type": "code",
   "execution_count": 99,
   "metadata": {
    "execution": {
     "iopub.execute_input": "2021-10-07T19:25:29.614400Z",
     "iopub.status.busy": "2021-10-07T19:25:29.613303Z",
     "iopub.status.idle": "2021-10-07T19:25:29.617633Z",
     "shell.execute_reply": "2021-10-07T19:25:29.618542Z"
    }
   },
   "outputs": [
    {
     "data": {
      "text/plain": "Gender | Age  | Shuffled Label\nmale   | 23   | female\nmale   | 29   | female\nmale   | 29   | female\nfemale | 49   | female\nfemale | 33   | male\nmale   | 31   | male\nmale   | 60   | male\nmale   | 38   | male\nfemale | 60   | female\nfemale | 27   | female\n... (490 rows omitted)",
      "text/html": "<table border=\"1\" class=\"dataframe\">\n    <thead>\n        <tr>\n            <th>Gender</th> <th>Age</th> <th>Shuffled Label</th>\n        </tr>\n    </thead>\n    <tbody>\n        <tr>\n            <td>male  </td> <td>23  </td> <td>female        </td>\n        </tr>\n        <tr>\n            <td>male  </td> <td>29  </td> <td>female        </td>\n        </tr>\n        <tr>\n            <td>male  </td> <td>29  </td> <td>female        </td>\n        </tr>\n        <tr>\n            <td>female</td> <td>49  </td> <td>female        </td>\n        </tr>\n        <tr>\n            <td>female</td> <td>33  </td> <td>male          </td>\n        </tr>\n        <tr>\n            <td>male  </td> <td>31  </td> <td>male          </td>\n        </tr>\n        <tr>\n            <td>male  </td> <td>60  </td> <td>male          </td>\n        </tr>\n        <tr>\n            <td>male  </td> <td>38  </td> <td>male          </td>\n        </tr>\n        <tr>\n            <td>female</td> <td>60  </td> <td>female        </td>\n        </tr>\n        <tr>\n            <td>female</td> <td>27  </td> <td>female        </td>\n        </tr>\n    </tbody>\n</table>\n<p>... (490 rows omitted)</p>"
     },
     "execution_count": 99,
     "metadata": {},
     "output_type": "execute_result"
    }
   ],
   "source": [
    "shuffled_labels = sampled_ages.sample(with_replacement=False).column(0)\n",
    "original_with_shuffled_labels = sampled_ages.with_columns('Shuffled Label', shuffled_labels)\n",
    "original_with_shuffled_labels"
   ]
  },
  {
   "cell_type": "code",
   "execution_count": 100,
   "metadata": {
    "deletable": false,
    "editable": false
   },
   "outputs": [
    {
     "data": {
      "text/plain": "q3_7 results: All test cases passed!",
      "text/html": "<p><strong><pre style='display: inline;'>q3_7</pre></strong> passed!</p>"
     },
     "execution_count": 100,
     "metadata": {},
     "output_type": "execute_result"
    }
   ],
   "source": [
    "grader.check(\"q3_7\")"
   ]
  },
  {
   "cell_type": "markdown",
   "metadata": {
    "deletable": false,
    "editable": false
   },
   "source": [
    "**Question 3.8.** [Pretend this is a midterm problem and solve it without doing the calculation in a code cell.] The comparison below uses the array `shuffled_labels` from Question 3.7 and the count `num_females` from Question 3.1. **(4 points)**\n",
    "\n",
    "For this comparison, assign the correct number from one of the following options to the variable `correct_q8`.\n",
    "\n",
    "`comp = np.count_nonzero(shuffled_labels == 'female') == num_females`\n",
    "\n",
    "1. `comp` is set to `True`.\n",
    "2. `comp` is set to `False`.\n",
    "3. `comp` is set to `True`, or `False`, depending on how the shuffle came out.\n",
    "\n",
    "<!--\n",
    "BEGIN QUESTION\n",
    "name: q3_8\n",
    "manual: false\n",
    "points:\n",
    " - 0\n",
    " - 0\n",
    " - 4\n",
    "-->"
   ]
  },
  {
   "cell_type": "code",
   "execution_count": 101,
   "metadata": {
    "execution": {
     "iopub.execute_input": "2021-10-07T19:25:29.712559Z",
     "iopub.status.busy": "2021-10-07T19:25:29.711567Z",
     "iopub.status.idle": "2021-10-07T19:25:29.716432Z",
     "shell.execute_reply": "2021-10-07T19:25:29.717246Z"
    }
   },
   "outputs": [
    {
     "data": {
      "text/plain": "1"
     },
     "execution_count": 101,
     "metadata": {},
     "output_type": "execute_result"
    }
   ],
   "source": [
    "correct_q8 = 1\n",
    "correct_q8"
   ]
  },
  {
   "cell_type": "code",
   "execution_count": 102,
   "metadata": {
    "deletable": false,
    "editable": false
   },
   "outputs": [
    {
     "data": {
      "text/plain": "q3_8 results: All test cases passed!",
      "text/html": "<p><strong><pre style='display: inline;'>q3_8</pre></strong> passed!</p>"
     },
     "execution_count": 102,
     "metadata": {},
     "output_type": "execute_result"
    }
   ],
   "source": [
    "grader.check(\"q3_8\")"
   ]
  },
  {
   "cell_type": "markdown",
   "metadata": {
    "deletable": false,
    "editable": false
   },
   "source": [
    "**Question 3.9.** Define a function `simulate_one_statistic` that takes no arguments and returns one simulated value of the test statistic. We've given you a skeleton, but feel free to approach this question in a way that makes sense to you. Use as many lines of code as you need. Refer to the code you have previously written in this problem, as you might be able to re-use some of it. **(4 points)**\n",
    "\n",
    "<!--\n",
    "BEGIN QUESTION\n",
    "name: q3_9\n",
    "manual: false\n",
    "points:\n",
    " - 4\n",
    "-->"
   ]
  },
  {
   "cell_type": "code",
   "execution_count": 110,
   "metadata": {
    "execution": {
     "iopub.execute_input": "2021-10-07T19:25:29.765282Z",
     "iopub.status.busy": "2021-10-07T19:25:29.764648Z",
     "iopub.status.idle": "2021-10-07T19:25:29.769240Z",
     "shell.execute_reply": "2021-10-07T19:25:29.768415Z"
    }
   },
   "outputs": [
    {
     "data": {
      "text/plain": "1.6907051282051242"
     },
     "execution_count": 110,
     "metadata": {},
     "output_type": "execute_result"
    }
   ],
   "source": [
    "def simulate_one_statistic():\n",
    "    \"Returns one value of our simulated test statistic\"\n",
    "    shuffled_labels = sampled_ages.sample(with_replacement=False).column(0)\n",
    "    shuffled_tbl = sampled_ages.with_columns('Shuffled Label', shuffled_labels).select(1, 2)\n",
    "    group_means = shuffled_tbl.group('Shuffled Label', np.average).column(1)\n",
    "    return group_means.item(1)-group_means.item(0)\n",
    "\n",
    "simulate_one_statistic()"
   ]
  },
  {
   "cell_type": "code",
   "execution_count": 112,
   "metadata": {
    "deletable": false,
    "editable": false
   },
   "outputs": [
    {
     "data": {
      "text/plain": "q3_9 results: All test cases passed!",
      "text/html": "<p><strong><pre style='display: inline;'>q3_9</pre></strong> passed!</p>"
     },
     "execution_count": 112,
     "metadata": {},
     "output_type": "execute_result"
    }
   ],
   "source": [
    "grader.check(\"q3_9\")"
   ]
  },
  {
   "cell_type": "markdown",
   "metadata": {},
   "source": [
    "After you have defined your function, run the following cell a few times to see how the statistic varies."
   ]
  },
  {
   "cell_type": "code",
   "execution_count": 113,
   "metadata": {
    "execution": {
     "iopub.execute_input": "2021-10-07T19:25:29.865601Z",
     "iopub.status.busy": "2021-10-07T19:25:29.864885Z",
     "iopub.status.idle": "2021-10-07T19:25:29.870889Z",
     "shell.execute_reply": "2021-10-07T19:25:29.869860Z"
    }
   },
   "outputs": [
    {
     "data": {
      "text/plain": "0.8814102564102555"
     },
     "execution_count": 113,
     "metadata": {},
     "output_type": "execute_result"
    }
   ],
   "source": [
    "simulate_one_statistic()"
   ]
  },
  {
   "cell_type": "markdown",
   "metadata": {
    "deletable": false,
    "editable": false
   },
   "source": [
    "**Question 3.10.** Complete the cell to simulate 4,000 values of the statistic. We have included the code that draws the empirical distribution of the statistic and shows the value of `observed_statistic_ab` from Question 3.6. **(4 points)**\n",
    "\n",
    "*Note:* This cell will take around a minute to run.\n",
    "\n",
    "<!--\n",
    "BEGIN QUESTION\n",
    "name: q3_10\n",
    "manual: false\n",
    "points:\n",
    " - 4\n",
    "-->"
   ]
  },
  {
   "cell_type": "code",
   "execution_count": 114,
   "metadata": {
    "execution": {
     "iopub.execute_input": "2021-10-07T19:25:30.340391Z",
     "iopub.status.busy": "2021-10-07T19:25:30.332941Z",
     "iopub.status.idle": "2021-10-07T19:26:50.789568Z",
     "shell.execute_reply": "2021-10-07T19:26:50.788926Z"
    },
    "scrolled": true
   },
   "outputs": [
    {
     "data": {
      "text/plain": "<IPython.core.display.Markdown object>",
      "text/markdown": "## **Uh-o it seems we have an error!**"
     },
     "metadata": {},
     "output_type": "display_data"
    },
    {
     "data": {
      "text/plain": "<IPython.core.display.Markdown object>",
      "text/markdown": "It seems we have a NameError. NameErrors are usually because of:"
     },
     "metadata": {},
     "output_type": "display_data"
    },
    {
     "data": {
      "text/plain": "<IPython.core.display.Markdown object>",
      "text/markdown": "1. Misspelling a variable, function, or method name "
     },
     "metadata": {},
     "output_type": "display_data"
    },
    {
     "data": {
      "text/plain": "<IPython.core.display.Markdown object>",
      "text/markdown": "2. Not importing required libraries, i.e not running the cell with `import numpy as np`"
     },
     "metadata": {},
     "output_type": "display_data"
    },
    {
     "data": {
      "text/plain": "<IPython.core.display.Markdown object>",
      "text/markdown": "3. Kernel died. You might need to re-run cells to redefine variables"
     },
     "metadata": {},
     "output_type": "display_data"
    },
    {
     "data": {
      "text/plain": "<IPython.core.display.Markdown object>",
      "text/markdown": "The Data 8 Reference might be helpful to look over for examples and usage: [Data 8 Reference](http://data8.org/fa21/python-reference.html)"
     },
     "metadata": {},
     "output_type": "display_data"
    },
    {
     "data": {
      "text/plain": "<IPython.core.display.Markdown object>",
      "text/markdown": "If you are having more trouble please feel free to consult a staff member at [Office Hours](https://oh.data8.org)                        \n or see the error message below "
     },
     "metadata": {},
     "output_type": "display_data"
    },
    {
     "data": {
      "text/plain": "<IPython.core.display.Markdown object>",
      "text/markdown": "Please fill out this quick survey to help us improve the the error feedback [Data 8 Error Feedback Survey](https://forms.gle/6UZQjwZmAxVDMsBR6)"
     },
     "metadata": {},
     "output_type": "display_data"
    },
    {
     "ename": "NameError",
     "evalue": "name 'plots' is not defined",
     "output_type": "error",
     "traceback": [
      "\u001B[0;31m---------------------------------------------------------------------------\u001B[0m",
      "\u001B[0;31mNameError\u001B[0m                                 Traceback (most recent call last)",
      "Input \u001B[0;32mIn [114]\u001B[0m, in \u001B[0;36m<cell line: 8>\u001B[0;34m()\u001B[0m\n\u001B[1;32m      5\u001B[0m     simulated_statistics_ab \u001B[38;5;241m=\u001B[39m np\u001B[38;5;241m.\u001B[39mappend(simulated_statistics_ab, simulate_one_statistic())\n\u001B[1;32m      7\u001B[0m Table()\u001B[38;5;241m.\u001B[39mwith_columns(\u001B[38;5;124m'\u001B[39m\u001B[38;5;124mSimulated Statistic\u001B[39m\u001B[38;5;124m'\u001B[39m, simulated_statistics_ab)\u001B[38;5;241m.\u001B[39mhist()\n\u001B[0;32m----> 8\u001B[0m \u001B[43mplots\u001B[49m\u001B[38;5;241m.\u001B[39mscatter(observed_statistic_ab, \u001B[38;5;241m-\u001B[39m\u001B[38;5;241m0.002\u001B[39m, color\u001B[38;5;241m=\u001B[39m\u001B[38;5;124m'\u001B[39m\u001B[38;5;124mred\u001B[39m\u001B[38;5;124m'\u001B[39m, s\u001B[38;5;241m=\u001B[39m\u001B[38;5;241m70\u001B[39m)\n",
      "\u001B[0;31mNameError\u001B[0m: name 'plots' is not defined"
     ]
    },
    {
     "data": {
      "text/plain": "<Figure size 432x288 with 1 Axes>",
      "image/png": "[encoded data removed]"
     },
     "metadata": {},
     "output_type": "display_data"
    }
   ],
   "source": [
    "repetitions = 4000\n",
    "\n",
    "simulated_statistics_ab = make_array()\n",
    "for _ in range(repetitions):\n",
    "    simulated_statistics_ab = np.append(simulated_statistics_ab, simulate_one_statistic())\n",
    "\n",
    "Table().with_columns('Simulated Statistic', simulated_statistics_ab).hist()\n",
    "plots.scatter(observed_statistic_ab, -0.002, color='red', s=70);"
   ]
  },
  {
   "cell_type": "code",
   "execution_count": 115,
   "metadata": {
    "deletable": false,
    "editable": false
   },
   "outputs": [
    {
     "data": {
      "text/plain": "q3_10 results: All test cases passed!",
      "text/html": "<p><strong><pre style='display: inline;'>q3_10</pre></strong> passed!</p>"
     },
     "execution_count": 115,
     "metadata": {},
     "output_type": "execute_result"
    }
   ],
   "source": [
    "grader.check(\"q3_10\")"
   ]
  },
  {
   "cell_type": "markdown",
   "metadata": {
    "deletable": false,
    "editable": false
   },
   "source": [
    "**Question 3.11.** Use the simulation to find an empirical approximation to the p-value. Assign `p_val` to the appropriate p-value from this simulation. Then, assign `conclusion` to either `null_hyp` or `alt_hyp`. **(4 points)** \n",
    "\n",
    "*Note:* Assume that we use the 5% cutoff for the p-value.\n",
    "\n",
    "<!--\n",
    "BEGIN QUESTION\n",
    "name: q3_11\n",
    "manual: false\n",
    "points:\n",
    " - 0\n",
    " - 0\n",
    " - 0\n",
    " - 2\n",
    " - 2\n",
    "-->"
   ]
  },
  {
   "cell_type": "code",
   "execution_count": 117,
   "metadata": {
    "execution": {
     "iopub.execute_input": "2021-10-07T19:26:50.810781Z",
     "iopub.status.busy": "2021-10-07T19:26:50.809969Z",
     "iopub.status.idle": "2021-10-07T19:26:50.814209Z",
     "shell.execute_reply": "2021-10-07T19:26:50.813675Z"
    }
   },
   "outputs": [
    {
     "data": {
      "text/plain": "(0.10525, 'The data are consistent with the null hypothesis.')"
     },
     "execution_count": 117,
     "metadata": {},
     "output_type": "execute_result"
    }
   ],
   "source": [
    "# These are variables provided for you to use.\n",
    "null_hyp = 'The data are consistent with the null hypothesis.'\n",
    "alt_hyp = 'The data support the alternative more than the null.'\n",
    "\n",
    "p_val = np.count_nonzero(simulated_statistics_ab>observed_statistic_ab)/repetitions\n",
    "conclusion = null_hyp\n",
    "\n",
    "p_val, conclusion # Do not change this line"
   ]
  },
  {
   "cell_type": "code",
   "execution_count": 118,
   "metadata": {
    "deletable": false,
    "editable": false
   },
   "outputs": [
    {
     "data": {
      "text/plain": "q3_11 results: All test cases passed!",
      "text/html": "<p><strong><pre style='display: inline;'>q3_11</pre></strong> passed!</p>"
     },
     "execution_count": 118,
     "metadata": {},
     "output_type": "execute_result"
    }
   ],
   "source": [
    "grader.check(\"q3_11\")"
   ]
  },
  {
   "cell_type": "markdown",
   "metadata": {},
   "source": [
    "You're done with Homework 7!  \n",
    "\n",
    "**Important submission steps:** \n",
    "1. Run the tests and verify that they all pass.\n",
    "2. Choose **Save and Checkpoint** from the **File** menu, then **run the final cell**. \n",
    "3. Click the link to download the zip file.\n",
    "4. Go to [Gradescope](https://www.gradescope.com/courses/288788) and submit the zip file to the corresponding assignment. The name of this assignment is \"Homework 7 Autograder\". \n",
    "\n",
    "**It is your responsibility to make sure your work is saved before running the last cell.**"
   ]
  },
  {
   "cell_type": "markdown",
   "metadata": {
    "deletable": false,
    "editable": false
   },
   "source": [
    "---\n",
    "\n",
    "To double-check your work, the cell below will rerun all of the autograder tests."
   ]
  },
  {
   "cell_type": "code",
   "execution_count": 119,
   "metadata": {
    "deletable": false,
    "editable": false
   },
   "outputs": [
    {
     "data": {
      "text/plain": "q1_1 results: All test cases passed!\n\nq1_4 results: All test cases passed!\n\nq1_5 results: All test cases passed!\n\nq1_6 results: All test cases passed!\n\nq1_8 results: All test cases passed!\n\nq1_9 results: All test cases passed!\n\nq2_2 results: All test cases passed!\n\nq2_3 results: All test cases passed!\n\nq2_4 results: All test cases passed!\n\nq3_1 results: All test cases passed!\n\nq3_10 results: All test cases passed!\n\nq3_11 results: All test cases passed!\n\nq3_2 results: All test cases passed!\n\nq3_3 results: All test cases passed!\n\nq3_4 results: All test cases passed!\n\nq3_5 results: All test cases passed!\n\nq3_6 results: All test cases passed!\n\nq3_7 results: All test cases passed!\n\nq3_8 results: All test cases passed!\n\nq3_9 results: All test cases passed!"
     },
     "execution_count": 119,
     "metadata": {},
     "output_type": "execute_result"
    }
   ],
   "source": [
    "grader.check_all()"
   ]
  },
  {
   "cell_type": "markdown",
   "metadata": {
    "deletable": false,
    "editable": false
   },
   "source": [
    "## Submission\n",
    "\n",
    "Make sure you have run all cells in your notebook in order before running the cell below, so that all images/graphs appear in the output. The cell below will generate a zip file for you to submit. **Please save before exporting!**"
   ]
  },
  {
   "cell_type": "code",
   "execution_count": null,
   "metadata": {
    "deletable": false,
    "editable": false
   },
   "outputs": [],
   "source": [
    "# Save your notebook first, then run this cell to export your submission.\n",
    "grader.export(pdf=False, force_save=True)"
   ]
  },
  {
   "cell_type": "markdown",
   "metadata": {},
   "source": [
    " "
   ]
  }
 ],
 "metadata": {
  "kernelspec": {
   "display_name": "Python 3",
   "language": "python",
   "name": "python3"
  },
  "language_info": {
   "codemirror_mode": {
    "name": "ipython",
    "version": 3
   },
   "file_extension": ".py",
   "mimetype": "text/x-python",
   "name": "python",
   "nbconvert_exporter": "python",
   "pygments_lexer": "ipython3",
   "version": "3.7.6"
  }
 },
 "nbformat": 4,
 "nbformat_minor": 5
}