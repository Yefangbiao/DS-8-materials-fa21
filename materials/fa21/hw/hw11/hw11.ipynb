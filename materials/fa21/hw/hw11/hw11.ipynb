{
 "cells": [
  {
   "cell_type": "code",
   "execution_count": 1,
   "id": "148abf9d",
   "metadata": {
    "deletable": false,
    "editable": false
   },
   "outputs": [],
   "source": [
    "# Initialize Otter\n",
    "import otter\n",
    "grader = otter.Notebook(\"hw11.ipynb\")"
   ]
  },
  {
   "cell_type": "markdown",
   "id": "b3730b89",
   "metadata": {},
   "source": [
    "# Homework 11: Regression Inference"
   ]
  },
  {
   "cell_type": "markdown",
   "id": "93614b07",
   "metadata": {},
   "source": [
    "**Helpful Resource:**\n",
    "- [Python Reference](http://data8.org/fa21/python-reference.html): Cheat sheet of helpful array & table methods used in Data 8!\n",
    "\n",
    "**Recommended Reading**: \n",
    "* [Inference for Regression](https://www.inferentialthinking.com/chapters/16/Inference_for_Regression.html)"
   ]
  },
  {
   "cell_type": "markdown",
   "id": "26487f79",
   "metadata": {},
   "source": [
    "Please complete this notebook by filling in the cells provided. Before you begin, execute the following cell to setup the notebook by importing some helpful libraries. Each time you start your server, you will need to execute this cell again.\n",
    "\n",
    "For all problems that you must write explanations and sentences for, you **must** provide your answer in the designated space. **Moreover, throughout this homework and all future ones, please be sure to not re-assign variables throughout the notebook!** For example, if you use `max_temperature` in your answer to one question, do not reassign it later on. Otherwise, you will fail tests that you thought you were passing previously!\n",
    "\n",
    "**Deadline:**\n",
    "\n",
    "This assignment is due Thursday, 11/18 at 11:59pm PT. Turn it in by Wednesday 11:59pm PT for 5 extra credit points. Late work will not be accepted as per the [policies](http://data8.org/fa21/policies.html) page.\n",
    "\n",
    "\n",
    "**Note: This homework has hidden tests on it. That means even though tests may say 100% passed, it doesn't mean your final grade will be 100%. We will be running more tests for correctness once everyone turns in the homework.**\n",
    "\n",
    "\n",
    "Directly sharing answers is not okay, but discussing problems with the course staff or with other students is encouraged. Refer to the policies page to learn more about how to learn cooperatively.\n",
    "\n",
    "You should start early so that you have time to get help if you're stuck. Office hours are held Monday-Friday. The schedule appears on [http://data8.org/fa21/office-hours.html](http://data8.org/fa21/office-hours.html)."
   ]
  },
  {
   "cell_type": "code",
   "execution_count": 2,
   "id": "46230a24",
   "metadata": {
    "execution": {
     "iopub.execute_input": "2021-11-11T08:31:11.646833Z",
     "iopub.status.busy": "2021-11-11T08:31:11.641401Z",
     "iopub.status.idle": "2021-11-11T08:31:13.237803Z",
     "shell.execute_reply": "2021-11-11T08:31:13.237168Z"
    }
   },
   "outputs": [],
   "source": [
    "# Don't change this cell; just run it. \n",
    "\n",
    "import numpy as np\n",
    "from datascience import *\n",
    "import d8error\n",
    "\n",
    "# These lines do some fancy plotting magic\n",
    "import matplotlib\n",
    "%matplotlib inline\n",
    "import matplotlib.pyplot as plt\n",
    "plt.style.use('fivethirtyeight')\n",
    "import warnings\n",
    "warnings.simplefilter('ignore')\n",
    "from datetime import datetime"
   ]
  },
  {
   "cell_type": "markdown",
   "id": "0b19c28f",
   "metadata": {},
   "source": [
    "## An Introduction to Regression Inference"
   ]
  },
  {
   "cell_type": "markdown",
   "id": "574130a8",
   "metadata": {},
   "source": [
    "Previously in this class, we've used confidence intervals to quantify uncertainty about estimates. We can also run hypothesis tests using a confidence interval under the following procedure:\n",
    "\n",
    "1. Define a null and alternative hypothesis (they must be of the form \"The parameter is X\" and \"The parameter is not X\").\n",
    "2. Choose a p-value cutoff, and call it q.\n",
    "3. Construct a $(100-q)\\%$ interval using bootstrap sampling (for example, if your p-value cutoff q is 0.01, or 1%, then construct a 99% confidence interval).\n",
    "4. Using the confidence interval, determine if your data are more consistent with your null or alternative hypothesis:\n",
    "   * If the null hypothesis mean X is in your confidence interval, the data are more consistent with the null hypothesis.\n",
    "   * If the null hypothesis mean X is *not* in your confidence interval, the data are more consistent with the alternative hypothesis.\n",
    "\n",
    "More recently, we've discussed the use of linear regression to make predictions based on correlated variables. For example, we can predict the height of children based on the heights of their parents.\n",
    "\n",
    "We can combine these two topics to make powerful statements about our population by using the following techniques:\n",
    "- Bootstrapped interval for the true slope\n",
    "- Bootstrapped prediction interval for y (given a particular value of x)\n",
    "\n",
    "This homework explores these two methods."
   ]
  },
  {
   "cell_type": "markdown",
   "id": "ef49368e",
   "metadata": {},
   "source": [
    "## The Data\n",
    "The [Snowy Plover](https://www.audubon.org/field-guide/bird/snowy-plover) is a tiny bird that lives on the coast in parts of California and elsewhere. It is so small that it is vulnerable to many predators, including people and dogs that don't look where they are stepping when they go to the beach. It is considered endangered in many parts of the U.S.\n",
    "\n",
    "The data are about the eggs and newly-hatched chicks of the Snowy Plover. Here's a picture of [a parent bird incubating its eggs](http://cescos.fau.edu/jay/eps/articles/snowyplover.html).\n",
    "\n",
    "<img src=\"plover_and_eggs.jpeg\" alt=\"Plover and Eggs\">\n",
    "\n",
    "The data were collected at the Point Reyes National Seashore by a former [student at Berkeley](https://openlibrary.org/books/OL2038693M/BLSS_the_Berkeley_interactive_statistical_system). The goal was to see how the size of an egg could be used to predict the weight of the resulting chick. The bigger the newly-hatched chick, the more likely it is to survive.\n",
    "\n",
    "<img src=\"plover_and_chick.jpeg\" alt=\"Plover and Chick\">\n",
    "\n",
    "Each row of the data frame below corresponds to one Snowy Plover egg and the resulting chick. Note how tiny the bird is:\n",
    "\n",
    "- `Egg Length` and `Egg Breadth` (widest diameter) are measured in millimeters\n",
    "- `Egg Weight` and `Bird Weight` are measured in grams; for comparison, a standard paper clip weighs about one gram"
   ]
  },
  {
   "cell_type": "code",
   "execution_count": 3,
   "id": "70e1b038",
   "metadata": {
    "execution": {
     "iopub.execute_input": "2021-11-11T08:31:13.243922Z",
     "iopub.status.busy": "2021-11-11T08:31:13.243367Z",
     "iopub.status.idle": "2021-11-11T08:31:13.256216Z",
     "shell.execute_reply": "2021-11-11T08:31:13.255583Z"
    }
   },
   "outputs": [
    {
     "data": {
      "text/plain": "Egg Length | Egg Breadth | Egg Weight | Bird Weight\n28.8       | 21.84       | 7.4        | 5.2\n29.04      | 22.45       | 7.7        | 5.4\n29.36      | 22.48       | 7.9        | 5.6\n30.1       | 21.71       | 7.5        | 5.3\n30.17      | 22.75       | 8.3        | 5.9\n30.34      | 22.84       | 8.5        | 5.8\n30.36      | 22.5        | 8.2        | 5.8\n30.46      | 22.72       | 8.3        | 6\n30.54      | 23.31       | 9          | 6.1\n30.62      | 22.94       | 8.5        | 6.2\n... (34 rows omitted)",
      "text/html": "<table border=\"1\" class=\"dataframe\">\n    <thead>\n        <tr>\n            <th>Egg Length</th> <th>Egg Breadth</th> <th>Egg Weight</th> <th>Bird Weight</th>\n        </tr>\n    </thead>\n    <tbody>\n        <tr>\n            <td>28.8      </td> <td>21.84      </td> <td>7.4       </td> <td>5.2        </td>\n        </tr>\n        <tr>\n            <td>29.04     </td> <td>22.45      </td> <td>7.7       </td> <td>5.4        </td>\n        </tr>\n        <tr>\n            <td>29.36     </td> <td>22.48      </td> <td>7.9       </td> <td>5.6        </td>\n        </tr>\n        <tr>\n            <td>30.1      </td> <td>21.71      </td> <td>7.5       </td> <td>5.3        </td>\n        </tr>\n        <tr>\n            <td>30.17     </td> <td>22.75      </td> <td>8.3       </td> <td>5.9        </td>\n        </tr>\n        <tr>\n            <td>30.34     </td> <td>22.84      </td> <td>8.5       </td> <td>5.8        </td>\n        </tr>\n        <tr>\n            <td>30.36     </td> <td>22.5       </td> <td>8.2       </td> <td>5.8        </td>\n        </tr>\n        <tr>\n            <td>30.46     </td> <td>22.72      </td> <td>8.3       </td> <td>6          </td>\n        </tr>\n        <tr>\n            <td>30.54     </td> <td>23.31      </td> <td>9         </td> <td>6.1        </td>\n        </tr>\n        <tr>\n            <td>30.62     </td> <td>22.94      </td> <td>8.5       </td> <td>6.2        </td>\n        </tr>\n    </tbody>\n</table>\n<p>... (34 rows omitted)</p>"
     },
     "execution_count": 3,
     "metadata": {},
     "output_type": "execute_result"
    }
   ],
   "source": [
    "birds = Table.read_table('snowy_plover.csv')\n",
    "birds"
   ]
  },
  {
   "cell_type": "markdown",
   "id": "06a0ecfd",
   "metadata": {},
   "source": [
    "In this investigation, we will be using the egg weight to predict bird weight. Run the cell below to create a scatter plot of the egg weights and bird weights, along with their line of best fit."
   ]
  },
  {
   "cell_type": "code",
   "execution_count": 4,
   "id": "4b7425c1",
   "metadata": {
    "execution": {
     "iopub.execute_input": "2021-11-11T08:31:13.291669Z",
     "iopub.status.busy": "2021-11-11T08:31:13.279329Z",
     "iopub.status.idle": "2021-11-11T08:31:13.514539Z",
     "shell.execute_reply": "2021-11-11T08:31:13.513898Z"
    }
   },
   "outputs": [
    {
     "data": {
      "text/plain": "<Figure size 360x360 with 1 Axes>",
      "image/png": "[encoded data removed]"
     },
     "metadata": {},
     "output_type": "display_data"
    }
   ],
   "source": [
    "# Just run this cell and examine the scatter plot.\n",
    "birds.scatter('Egg Weight', \"Bird Weight\", fit_line=True)"
   ]
  },
  {
   "cell_type": "markdown",
   "id": "c2a08ee7",
   "metadata": {},
   "source": [
    "## 1. Finding the Bootstrap Confidence Interval for the True Slope\n",
    "\n",
    "Looking at the scatter plot of our sample, we observe a linear relationship between egg weight and bird weight. However, relationships that appear in a sample might not exist in the population from which the sample was taken.\n",
    "\n",
    "We want to know if there truly exists a linear relationship between egg weight and bird weight for Snowy Plovers. If there is no linear relationship between the two variables, then we'd expect a correlation of 0. Consequently, the slope of the regression line would also be 0. "
   ]
  },
  {
   "cell_type": "markdown",
   "id": "6e3e6768",
   "metadata": {
    "deletable": false,
    "editable": false
   },
   "source": [
    "<!-- BEGIN QUESTION -->\n",
    "\n",
    "**Question 1.1.** Let's run a hypothesis test using confidence intervals to see if there is a linear relationship between egg weight and bird weight. Define the null and alternative hypotheses that will allow you to conduct this test. **(8 points)**\n",
    "\n",
    "*Note:* Please write your answer **in the cell below** in the following format:\n",
    "- **Null Hypothesis:**\n",
    "- **Alternative Hypothesis:**\n",
    "\n",
    "\n",
    "\n",
    "<!--\n",
    "BEGIN QUESTION\n",
    "name: q1_1\n",
    "manual: true\n",
    "-->"
   ]
  },
  {
   "cell_type": "markdown",
   "id": "268d9803",
   "metadata": {},
   "source": [
    "_Type your answer here, replacing this text._\n",
    "null: have association\n",
    "alternative: no association"
   ]
  },
  {
   "cell_type": "markdown",
   "id": "46734384",
   "metadata": {
    "deletable": false,
    "editable": false
   },
   "source": [
    "<!-- END QUESTION -->\n",
    "\n",
    "**Question 1.2.** Define the following two functions:\n",
    "\n",
    "1. `standard_units`: This function takes in an array of numbers and returns an array containing those numbers converted to standard units.\n",
    "2. `correlation`: This function takes in a table and two column names (one for *x* and one for *y*) and returns the correlation between these columns. \n",
    "\n",
    "**(8 points)**\n",
    "\n",
    "<!--\n",
    "BEGIN QUESTION\n",
    "name: q1_2\n",
    "manual: false\n",
    "points:\n",
    " - 0\n",
    " - 4\n",
    " - 4\n",
    "-->"
   ]
  },
  {
   "cell_type": "code",
   "execution_count": 5,
   "id": "5c0d6f5b",
   "metadata": {
    "ExecuteTime": {
     "end_time": "2018-04-11T12:05:50.894154Z",
     "start_time": "2018-04-11T12:05:50.889145Z"
    },
    "deletable": false,
    "execution": {
     "iopub.execute_input": "2021-11-11T08:31:13.521823Z",
     "iopub.status.busy": "2021-11-11T08:31:13.521211Z",
     "iopub.status.idle": "2021-11-11T08:31:13.524273Z",
     "shell.execute_reply": "2021-11-11T08:31:13.523668Z"
    }
   },
   "outputs": [],
   "source": [
    "def standard_units(arr):\n",
    "    return (np.mean(arr) - arr) / np.std(arr)\n",
    "\n",
    "def correlation(tbl, x_col, y_col):\n",
    "    return np.mean(standard_units(tbl.column(x_col)) * standard_units(tbl.column(y_col)))"
   ]
  },
  {
   "cell_type": "code",
   "execution_count": 6,
   "id": "310081d0",
   "metadata": {
    "deletable": false,
    "editable": false
   },
   "outputs": [
    {
     "data": {
      "text/plain": "q1_2 results: All test cases passed!",
      "text/html": "<p><strong><pre style='display: inline;'>q1_2</pre></strong> passed!</p>"
     },
     "execution_count": 6,
     "metadata": {},
     "output_type": "execute_result"
    }
   ],
   "source": [
    "grader.check(\"q1_2\")"
   ]
  },
  {
   "cell_type": "markdown",
   "id": "d778a11c",
   "metadata": {
    "deletable": false,
    "editable": false
   },
   "source": [
    "**Question 1.3.** Using the functions you just implemented, create a function called `fit_line`.  It should take a table like `birds` and the column names associated to *x* and *y* as its arguments and return an array containing the slope and intercept of the regression line (in that order) that predicts the *y* column in the table using the *x* column. **(8 points)**\n",
    "\n",
    "<!--\n",
    "BEGIN QUESTION\n",
    "name: q1_3\n",
    "manual: false\n",
    "points:\n",
    " - 0\n",
    " - 8\n",
    "-->"
   ]
  },
  {
   "cell_type": "code",
   "execution_count": 7,
   "id": "b50d6ae4",
   "metadata": {
    "ExecuteTime": {
     "end_time": "2018-04-11T12:05:51.483516Z",
     "start_time": "2018-04-11T12:05:51.472484Z"
    },
    "execution": {
     "iopub.execute_input": "2021-11-11T08:31:13.567504Z",
     "iopub.status.busy": "2021-11-11T08:31:13.566840Z",
     "iopub.status.idle": "2021-11-11T08:31:13.571274Z",
     "shell.execute_reply": "2021-11-11T08:31:13.570525Z"
    },
    "for_assignment_type": "solution"
   },
   "outputs": [
    {
     "data": {
      "text/plain": "array([ 0.71851534, -0.05827226])"
     },
     "execution_count": 7,
     "metadata": {},
     "output_type": "execute_result"
    }
   ],
   "source": [
    "def fit_line(tbl, x_col, y_col):\n",
    "    corr = correlation(tbl, x_col, y_col)\n",
    "    sl = corr * np.std(tbl.column(y_col)) / np.std(tbl.column(x_col))\n",
    "    inter = np.mean(tbl.column(y_col)) - sl * np.mean(tbl.column(x_col))\n",
    "    return np.array([sl, inter])\n",
    "\n",
    "fit_line(birds, \"Egg Weight\", \"Bird Weight\")"
   ]
  },
  {
   "cell_type": "code",
   "execution_count": 8,
   "id": "3eca7d7c",
   "metadata": {
    "deletable": false,
    "editable": false
   },
   "outputs": [
    {
     "data": {
      "text/plain": "q1_3 results: All test cases passed!",
      "text/html": "<p><strong><pre style='display: inline;'>q1_3</pre></strong> passed!</p>"
     },
     "execution_count": 8,
     "metadata": {},
     "output_type": "execute_result"
    }
   ],
   "source": [
    "grader.check(\"q1_3\")"
   ]
  },
  {
   "cell_type": "markdown",
   "id": "83fcca9d",
   "metadata": {},
   "source": [
    "Run this cell to plot the line produced by calling `fit_line` on the `birds` table.  \n",
    "\n",
    "**Note:** You are not responsible for the code in the cell below, but make sure that your `fit_line` function generated a reasonable line for the data."
   ]
  },
  {
   "cell_type": "code",
   "execution_count": 9,
   "id": "4fe7c2c1",
   "metadata": {
    "ExecuteTime": {
     "end_time": "2018-04-11T12:05:51.754766Z",
     "start_time": "2018-04-11T12:05:51.624390Z"
    },
    "execution": {
     "iopub.execute_input": "2021-11-11T08:31:13.644959Z",
     "iopub.status.busy": "2021-11-11T08:31:13.630792Z",
     "iopub.status.idle": "2021-11-11T08:31:13.796356Z",
     "shell.execute_reply": "2021-11-11T08:31:13.796806Z"
    }
   },
   "outputs": [
    {
     "data": {
      "text/plain": "<Figure size 360x360 with 1 Axes>",
      "image/png": "[encoded data removed]"
     },
     "metadata": {},
     "output_type": "display_data"
    }
   ],
   "source": [
    "# Ensure your fit_line function fits a reasonable line \n",
    "# to the data in faithful, using the plot below.\n",
    "\n",
    "slope, intercept = fit_line(birds, \"Egg Weight\", \"Bird Weight\")\n",
    "birds.scatter(\"Egg Weight\", \"Bird Weight\")\n",
    "plt.plot([min(birds.column(\"Egg Weight\")), max(birds.column(\"Egg Weight\"))], \n",
    "         [slope*min(birds.column(\"Egg Weight\"))+intercept, slope*max(birds.column(\"Egg Weight\"))+intercept])\n",
    "plt.show()"
   ]
  },
  {
   "cell_type": "markdown",
   "id": "c9422b34",
   "metadata": {},
   "source": [
    "Now we have all the tools we need to create a confidence interval that quantifies our uncertainty about the true relationship between egg weight and bird weight."
   ]
  },
  {
   "cell_type": "markdown",
   "id": "89dcccc8",
   "metadata": {
    "deletable": false,
    "editable": false
   },
   "source": [
    "<!-- BEGIN QUESTION -->\n",
    "\n",
    "**Question 1.4.** Create an array called `resampled_slopes` that contains the slope of the best fit line for 1000 bootstrap resamples of `birds`. Plot the distribution of these slopes. **(8 points)**\n",
    "\n",
    "<!--\n",
    "BEGIN QUESTION\n",
    "name: q1_4\n",
    "manual: true\n",
    "image: true\n",
    "-->"
   ]
  },
  {
   "cell_type": "code",
   "execution_count": 16,
   "id": "13b0e9fc",
   "metadata": {
    "execution": {
     "iopub.execute_input": "2021-11-11T08:31:14.193580Z",
     "iopub.status.busy": "2021-11-11T08:31:13.828668Z",
     "iopub.status.idle": "2021-11-11T08:31:14.562606Z",
     "shell.execute_reply": "2021-11-11T08:31:14.563186Z"
    },
    "for_assignment_type": "solution"
   },
   "outputs": [
    {
     "data": {
      "text/plain": "<Figure size 432x288 with 1 Axes>",
      "image/png": "[encoded data removed]"
     },
     "metadata": {},
     "output_type": "display_data"
    }
   ],
   "source": [
    "resample_slopes = make_array()\n",
    "\n",
    "for i in np.arange(1000): \n",
    "    birds_resample = birds.sample()\n",
    "    resample_line = fit_line(birds_resample, 'Egg Weight', 'Bird Weight')\n",
    "    resample_slope = resample_line.item(0)\n",
    "    resample_slopes = np.append(resample_slopes, resample_slope)\n",
    "\n",
    "    \n",
    "# DO NOT CHANGE THIS LINE\n",
    "Table().with_column(\"Slope estimate\", resample_slopes).hist()"
   ]
  },
  {
   "cell_type": "code",
   "execution_count": 17,
   "id": "065d388e",
   "metadata": {
    "deletable": false,
    "editable": false
   },
   "outputs": [
    {
     "data": {
      "text/plain": "q1_4 results: All test cases passed!",
      "text/html": "<p><strong><pre style='display: inline;'>q1_4</pre></strong> passed!</p>"
     },
     "execution_count": 17,
     "metadata": {},
     "output_type": "execute_result"
    }
   ],
   "source": [
    "grader.check(\"q1_4\")"
   ]
  },
  {
   "cell_type": "markdown",
   "id": "e00b9919",
   "metadata": {
    "deletable": false,
    "editable": false
   },
   "source": [
    "<!-- END QUESTION -->\n",
    "\n",
    "**Question 1.5.** Use your resampled slopes to construct an 95% confidence interval for the true value of the slope. **(8 points)**\n",
    "\n",
    "<!--\n",
    "BEGIN QUESTION\n",
    "name: q1_5\n",
    "manual: false\n",
    "points:\n",
    " - 0\n",
    " - 0\n",
    " - 8\n",
    "-->"
   ]
  },
  {
   "cell_type": "code",
   "execution_count": 21,
   "id": "3e2a181d",
   "metadata": {
    "ExecuteTime": {
     "end_time": "2018-04-11T12:05:53.077324Z",
     "start_time": "2018-04-11T12:05:53.072310Z"
    },
    "deletable": false,
    "execution": {
     "iopub.execute_input": "2021-11-11T08:31:14.581346Z",
     "iopub.status.busy": "2021-11-11T08:31:14.580722Z",
     "iopub.status.idle": "2021-11-11T08:31:14.584388Z",
     "shell.execute_reply": "2021-11-11T08:31:14.583755Z"
    }
   },
   "outputs": [
    {
     "name": "stdout",
     "output_type": "stream",
     "text": [
      "95% confidence interval for slope: [0.592711, 0.814864]\n"
     ]
    }
   ],
   "source": [
    "lower_end = percentile(2.5, resample_slopes)\n",
    "upper_end = percentile(97.5, resample_slopes)\n",
    "print(\"95% confidence interval for slope: [{:g}, {:g}]\".format(lower_end, upper_end))"
   ]
  },
  {
   "cell_type": "code",
   "execution_count": 22,
   "id": "efbb61ea",
   "metadata": {
    "deletable": false,
    "editable": false
   },
   "outputs": [
    {
     "data": {
      "text/plain": "q1_5 results: All test cases passed!",
      "text/html": "<p><strong><pre style='display: inline;'>q1_5</pre></strong> passed!</p>"
     },
     "execution_count": 22,
     "metadata": {},
     "output_type": "execute_result"
    }
   ],
   "source": [
    "grader.check(\"q1_5\")"
   ]
  },
  {
   "cell_type": "markdown",
   "id": "1dd5c83f",
   "metadata": {
    "deletable": false,
    "editable": false
   },
   "source": [
    "<!-- BEGIN QUESTION -->\n",
    "\n",
    "**Question 1.6.** Based on your confidence interval, would you accept or reject the null hypothesis that the true slope is 0?  Why?  What p-value cutoff are you using? **(8 points)**\n",
    "\n",
    "<!--\n",
    "BEGIN QUESTION\n",
    "name: q1_6\n",
    "manual: true\n",
    "-->"
   ]
  },
  {
   "cell_type": "markdown",
   "id": "9875ffb6",
   "metadata": {},
   "source": [
    "_Type your answer here, replacing this text._\n",
    "no"
   ]
  },
  {
   "cell_type": "markdown",
   "id": "0a84733e",
   "metadata": {
    "deletable": false,
    "editable": false
   },
   "source": [
    "<!-- END QUESTION -->\n",
    "\n",
    "<!-- BEGIN QUESTION -->\n",
    "\n",
    "**Question 1.7.** What do you think the true slope is? You do not need an exact number. **(8 points)**\n",
    "\n",
    "*Hint:* Can you provide an interval that you think the true slope falls in?\n",
    "\n",
    "<!--\n",
    "BEGIN QUESTION\n",
    "name: q1_7\n",
    "manual: true\n",
    "-->"
   ]
  },
  {
   "cell_type": "markdown",
   "id": "d5ea48af",
   "metadata": {},
   "source": [
    "_Type your answer here, replacing this text._\n",
    "0.7"
   ]
  },
  {
   "cell_type": "markdown",
   "id": "f4110f4f",
   "metadata": {},
   "source": [
    "<!-- END QUESTION -->\n",
    "\n",
    "\n",
    "\n",
    "## 2. Finding the Bootstrap Prediction Interval"
   ]
  },
  {
   "cell_type": "markdown",
   "id": "507ad918",
   "metadata": {},
   "source": [
    "Suppose we're visiting Point Reyes and stumble upon some Snowy Plover eggs; we'd like to know how heavy they'll be once they hatch. In other words, we want to use our regression line to make predictions about a bird's weight based on the weight of the corresponding egg.\n",
    "\n",
    "However, just as we're uncertain about the slope of the true regression line, we're also uncertain about the predictions made based on the true regression line."
   ]
  },
  {
   "cell_type": "markdown",
   "id": "f16f49b4",
   "metadata": {
    "deletable": false,
    "editable": false
   },
   "source": [
    "**Question 2.1.** Define the function `fitted_value`.  It should take in four arguments:\n",
    "\n",
    "1. `table`: a table like `birds`.  We'll be predicting the values in the second column using the first.\n",
    "2. `x_col`: the name of our x-column within the input `table`\n",
    "3. `y_col`: the name of our y-column within the input `table`\n",
    "2. `given_x`: a number, the value of the predictor variable for which we'd like to make a prediction.\n",
    "  \n",
    "The function should return the line’s prediction for the given x. **(8 points)**\n",
    "\n",
    "*Hint:* Make sure to use the `fit_line` function you defined in Question 1.3.\n",
    "\n",
    "<!--\n",
    "BEGIN QUESTION\n",
    "name: q2_1\n",
    "manual: false\n",
    "points:\n",
    " - 0\n",
    " - 8\n",
    "-->"
   ]
  },
  {
   "cell_type": "code",
   "execution_count": 23,
   "id": "c89c6d06",
   "metadata": {
    "ExecuteTime": {
     "end_time": "2018-04-11T12:05:53.935846Z",
     "start_time": "2018-04-11T12:05:53.927826Z"
    },
    "execution": {
     "iopub.execute_input": "2021-11-11T08:31:14.620569Z",
     "iopub.status.busy": "2021-11-11T08:31:14.619905Z",
     "iopub.status.idle": "2021-11-11T08:31:14.623844Z",
     "shell.execute_reply": "2021-11-11T08:31:14.624364Z"
    },
    "for_assignment_type": "solution"
   },
   "outputs": [
    {
     "data": {
      "text/plain": "5.689850497215146"
     },
     "execution_count": 23,
     "metadata": {},
     "output_type": "execute_result"
    }
   ],
   "source": [
    "def fitted_value(table, x_col, y_col, given_x):\n",
    "    line = fit_line(table, x_col, y_col)\n",
    "    slope = line.item(0)\n",
    "    intercept = line.item(1)\n",
    "    return slope * given_x + intercept\n",
    "\n",
    "# Here's an example of how fitted_value is used. The code below\n",
    "# computes the prediction for the bird weight, in grams, based on\n",
    "# an egg weight of 8 grams.\n",
    "egg_weight_eight = fitted_value(birds, \"Egg Weight\", \"Bird Weight\", 8)\n",
    "egg_weight_eight"
   ]
  },
  {
   "cell_type": "code",
   "execution_count": 24,
   "id": "0fe56e44",
   "metadata": {
    "deletable": false,
    "editable": false
   },
   "outputs": [
    {
     "data": {
      "text/plain": "q2_1 results: All test cases passed!",
      "text/html": "<p><strong><pre style='display: inline;'>q2_1</pre></strong> passed!</p>"
     },
     "execution_count": 24,
     "metadata": {},
     "output_type": "execute_result"
    }
   ],
   "source": [
    "grader.check(\"q2_1\")"
   ]
  },
  {
   "cell_type": "markdown",
   "id": "983d93c3",
   "metadata": {
    "deletable": false,
    "editable": false
   },
   "source": [
    "**Question 2.2.** Shayan, the resident Snowy Plover expert at Point Reyes, tells us that the egg he has been carefully observing has a weight of 9 grams. Using `fitted_value` above, assign the variable `experts_egg` to the predicted bird weight for Shayan's egg. \n",
    "\n",
    "<!--\n",
    "BEGIN QUESTION\n",
    "name: q2_2\n",
    "manual: false\n",
    "points:\n",
    " - 0\n",
    " - 8\n",
    "-->"
   ]
  },
  {
   "cell_type": "code",
   "execution_count": 25,
   "id": "4fbc99a5",
   "metadata": {
    "ExecuteTime": {
     "end_time": "2018-04-11T12:05:54.430725Z",
     "start_time": "2018-04-11T12:05:54.424720Z"
    },
    "deletable": false,
    "execution": {
     "iopub.execute_input": "2021-11-11T08:31:14.648951Z",
     "iopub.status.busy": "2021-11-11T08:31:14.648376Z",
     "iopub.status.idle": "2021-11-11T08:31:14.652848Z",
     "shell.execute_reply": "2021-11-11T08:31:14.652165Z"
    }
   },
   "outputs": [
    {
     "data": {
      "text/plain": "6.408365842108825"
     },
     "execution_count": 25,
     "metadata": {},
     "output_type": "execute_result"
    }
   ],
   "source": [
    "experts_egg = fitted_value(birds, \"Egg Weight\", \"Bird Weight\", 9)\n",
    "experts_egg"
   ]
  },
  {
   "cell_type": "code",
   "execution_count": 26,
   "id": "3a8347c3",
   "metadata": {
    "deletable": false,
    "editable": false
   },
   "outputs": [
    {
     "data": {
      "text/plain": "q2_2 results: All test cases passed!",
      "text/html": "<p><strong><pre style='display: inline;'>q2_2</pre></strong> passed!</p>"
     },
     "execution_count": 26,
     "metadata": {},
     "output_type": "execute_result"
    }
   ],
   "source": [
    "grader.check(\"q2_2\")"
   ]
  },
  {
   "cell_type": "code",
   "execution_count": 27,
   "id": "f2e3e029",
   "metadata": {
    "execution": {
     "iopub.execute_input": "2021-11-11T08:31:14.677827Z",
     "iopub.status.busy": "2021-11-11T08:31:14.677014Z",
     "iopub.status.idle": "2021-11-11T08:31:14.680724Z",
     "shell.execute_reply": "2021-11-11T08:31:14.681200Z"
    },
    "scrolled": true
   },
   "outputs": [
    {
     "data": {
      "text/plain": "44"
     },
     "execution_count": 27,
     "metadata": {},
     "output_type": "execute_result"
    }
   ],
   "source": [
    "# Let's look at the number of rows in the birds table.\n",
    "birds.num_rows"
   ]
  },
  {
   "cell_type": "markdown",
   "id": "84764494",
   "metadata": {},
   "source": [
    "A fellow parkgoer raises the following objection to your prediction:\n",
    "\n",
    "> \"Your prediction depends on your sample of 44 birds.  Wouldn't your prediction change if you had a different sample of birds?\"\n",
    "\n",
    "Having read section [16.3](https://inferentialthinking.com/chapters/16/3/Prediction_Intervals.html) of the textbook, you know just the response! Had the sample been different, the regression line would have been different too. This would ultimately result in a different prediction. To see how good our prediction is, we must get a sense of how variable the prediction can be."
   ]
  },
  {
   "cell_type": "markdown",
   "id": "7303860f",
   "metadata": {
    "deletable": false,
    "editable": false
   },
   "source": [
    "**Question 2.3.** Define a function `compute_resampled_line` that takes in a table `tbl`and two column names, `x_col` and `y_col`, and returns an array containing the parameters of the best fit line (slope and intercept) for one bootstrapped resample of the table.\n",
    "\n",
    "<!--\n",
    "BEGIN QUESTION\n",
    "name: q2_3\n",
    "manual: false\n",
    "points:\n",
    " - 0\n",
    " - 8\n",
    "-->"
   ]
  },
  {
   "cell_type": "code",
   "execution_count": 30,
   "id": "d237f3e1",
   "metadata": {
    "execution": {
     "iopub.execute_input": "2021-11-11T08:31:14.686473Z",
     "iopub.status.busy": "2021-11-11T08:31:14.685883Z",
     "iopub.status.idle": "2021-11-11T08:31:14.688989Z",
     "shell.execute_reply": "2021-11-11T08:31:14.688372Z"
    }
   },
   "outputs": [],
   "source": [
    "def compute_resampled_line(tbl, x_col, y_col):\n",
    "    resample = tbl.sample()\n",
    "    resampled_line = fit_line(resample, x_col, y_col)\n",
    "    return resampled_line"
   ]
  },
  {
   "cell_type": "code",
   "execution_count": 31,
   "id": "970d30f4",
   "metadata": {
    "deletable": false,
    "editable": false
   },
   "outputs": [
    {
     "data": {
      "text/plain": "q2_3 results: All test cases passed!",
      "text/html": "<p><strong><pre style='display: inline;'>q2_3</pre></strong> passed!</p>"
     },
     "execution_count": 31,
     "metadata": {},
     "output_type": "execute_result"
    }
   ],
   "source": [
    "grader.check(\"q2_3\")"
   ]
  },
  {
   "cell_type": "markdown",
   "id": "bd4b505e",
   "metadata": {},
   "source": [
    "**Run** the following cell below in order to define the function `bootstrap_lines`.  It takes in four arguments:\n",
    "1. `tbl`: a table like `birds`\n",
    "2. `x_col`: the name of our x-column within the input `tbl`\n",
    "3. `y_col`: the name of our y-column within the input `tbl`\n",
    "4. `num_bootstraps`: an integer, a number of bootstraps to run.\n",
    "\n",
    "It returns a *table* with one row for each bootstrap resample and the following two columns:\n",
    "1. `Slope`: the bootstrapped slopes \n",
    "2. `Intercept`: the corresponding bootstrapped intercepts "
   ]
  },
  {
   "cell_type": "code",
   "execution_count": 32,
   "id": "cd1da1bf",
   "metadata": {
    "ExecuteTime": {
     "end_time": "2018-04-11T12:05:55.698074Z",
     "start_time": "2018-04-11T12:05:55.243866Z"
    },
    "execution": {
     "iopub.execute_input": "2021-11-11T08:31:14.803232Z",
     "iopub.status.busy": "2021-11-11T08:31:14.728233Z",
     "iopub.status.idle": "2021-11-11T08:31:15.159909Z",
     "shell.execute_reply": "2021-11-11T08:31:15.160447Z"
    },
    "for_assignment_type": "solution"
   },
   "outputs": [
    {
     "data": {
      "text/plain": "Slope    | Intercept\n0.697347 | 0.133231\n0.640967 | 0.605178\n0.651404 | 0.522656\n0.762727 | -0.422893\n0.718073 | -0.0439584\n0.768107 | -0.479598\n0.766307 | -0.422504\n0.649953 | 0.499833\n0.637794 | 0.636444\n0.608943 | 0.877224\n... (990 rows omitted)",
      "text/html": "<table border=\"1\" class=\"dataframe\">\n    <thead>\n        <tr>\n            <th>Slope</th> <th>Intercept</th>\n        </tr>\n    </thead>\n    <tbody>\n        <tr>\n            <td>0.697347</td> <td>0.133231  </td>\n        </tr>\n        <tr>\n            <td>0.640967</td> <td>0.605178  </td>\n        </tr>\n        <tr>\n            <td>0.651404</td> <td>0.522656  </td>\n        </tr>\n        <tr>\n            <td>0.762727</td> <td>-0.422893 </td>\n        </tr>\n        <tr>\n            <td>0.718073</td> <td>-0.0439584</td>\n        </tr>\n        <tr>\n            <td>0.768107</td> <td>-0.479598 </td>\n        </tr>\n        <tr>\n            <td>0.766307</td> <td>-0.422504 </td>\n        </tr>\n        <tr>\n            <td>0.649953</td> <td>0.499833  </td>\n        </tr>\n        <tr>\n            <td>0.637794</td> <td>0.636444  </td>\n        </tr>\n        <tr>\n            <td>0.608943</td> <td>0.877224  </td>\n        </tr>\n    </tbody>\n</table>\n<p>... (990 rows omitted)</p>"
     },
     "execution_count": 32,
     "metadata": {},
     "output_type": "execute_result"
    }
   ],
   "source": [
    "def bootstrap_lines(tbl, x_col, y_col, num_bootstraps):\n",
    "    resampled_slopes = make_array()\n",
    "    resampled_intercepts = make_array() \n",
    "    for i in np.arange(num_bootstraps): \n",
    "        resampled_line = compute_resampled_line(tbl, x_col, y_col) \n",
    "        resampled_slope = resampled_line.item(0) \n",
    "        resampled_intercept = resampled_line.item(1) \n",
    "        resampled_slopes = np.append(resampled_slopes,resampled_slope)\n",
    "        resampled_intercepts = np.append(resampled_intercepts,resampled_intercept)\n",
    "    tbl_lines = Table().with_columns('Slope', resampled_slopes, 'Intercept', resampled_intercepts)\n",
    "    return tbl_lines\n",
    "\n",
    "regression_lines = bootstrap_lines(birds, \"Egg Weight\", \"Bird Weight\", 1000)\n",
    "regression_lines"
   ]
  },
  {
   "cell_type": "markdown",
   "id": "0cb57f88",
   "metadata": {
    "deletable": false,
    "editable": false
   },
   "source": [
    "<!-- BEGIN QUESTION -->\n",
    "\n",
    "**Question 2.4.** Create an array called `predictions_for_eight` that contains the predicted bird weights based on an egg of weight 8 grams for each regression line in `regression_lines`. **(8 points)**\n",
    "\n",
    "<!--\n",
    "BEGIN QUESTION\n",
    "name: q2_4\n",
    "manual: true\n",
    "image: true\n",
    "-->"
   ]
  },
  {
   "cell_type": "code",
   "execution_count": 35,
   "id": "df737535",
   "metadata": {
    "ExecuteTime": {
     "end_time": "2018-04-11T12:05:55.991855Z",
     "start_time": "2018-04-11T12:05:55.759236Z"
    },
    "deletable": false,
    "execution": {
     "iopub.execute_input": "2021-11-11T08:31:15.187182Z",
     "iopub.status.busy": "2021-11-11T08:31:15.186520Z",
     "iopub.status.idle": "2021-11-11T08:31:15.396791Z",
     "shell.execute_reply": "2021-11-11T08:31:15.396285Z"
    },
    "scrolled": true
   },
   "outputs": [
    {
     "data": {
      "text/plain": "<Figure size 432x288 with 1 Axes>",
      "image/png": "[encoded data removed]"
     },
     "metadata": {},
     "output_type": "display_data"
    }
   ],
   "source": [
    "predictions_for_eight = regression_lines.column(0) * 8 + regression_lines.column(1)\n",
    "\n",
    "# This will make a histogram of your predictions:\n",
    "table_of_predictions = Table().with_column('Predictions at Egg Weight=8', predictions_for_eight)\n",
    "table_of_predictions.hist('Predictions at Egg Weight=8', bins=20)"
   ]
  },
  {
   "cell_type": "code",
   "execution_count": 36,
   "id": "c153f08b",
   "metadata": {
    "deletable": false,
    "editable": false
   },
   "outputs": [
    {
     "data": {
      "text/plain": "q2_4 results: All test cases passed!",
      "text/html": "<p><strong><pre style='display: inline;'>q2_4</pre></strong> passed!</p>"
     },
     "execution_count": 36,
     "metadata": {},
     "output_type": "execute_result"
    }
   ],
   "source": [
    "grader.check(\"q2_4\")"
   ]
  },
  {
   "cell_type": "markdown",
   "id": "fa3934e5",
   "metadata": {
    "deletable": false,
    "editable": false
   },
   "source": [
    "<!-- END QUESTION -->\n",
    "\n",
    "**Question 2.5.** Create an approximate 95% confidence interval for these predictions. **(6 points)**\n",
    "\n",
    "<!--\n",
    "BEGIN QUESTION\n",
    "name: q2_5\n",
    "manual: false\n",
    "points:\n",
    " - 0\n",
    " - 0\n",
    " - 6\n",
    "-->"
   ]
  },
  {
   "cell_type": "code",
   "execution_count": 38,
   "id": "163322e2",
   "metadata": {
    "ExecuteTime": {
     "end_time": "2018-04-11T12:05:56.097136Z",
     "start_time": "2018-04-11T12:05:56.089117Z"
    },
    "deletable": false,
    "execution": {
     "iopub.execute_input": "2021-11-11T08:31:15.413471Z",
     "iopub.status.busy": "2021-11-11T08:31:15.412755Z",
     "iopub.status.idle": "2021-11-11T08:31:15.418131Z",
     "shell.execute_reply": "2021-11-11T08:31:15.417156Z"
    },
    "scrolled": true
   },
   "outputs": [
    {
     "name": "stdout",
     "output_type": "stream",
     "text": [
      "95% Confidence interval for predictions for x=8: ( 5.62681672919272 , 5.765687537150783 )\n"
     ]
    }
   ],
   "source": [
    "lower_bound = percentile(2.5, predictions_for_eight)\n",
    "upper_bound = percentile(97.5, predictions_for_eight)\n",
    "\n",
    "print('95% Confidence interval for predictions for x=8: (', lower_bound,\",\", upper_bound, ')')"
   ]
  },
  {
   "cell_type": "code",
   "execution_count": 39,
   "id": "0470e75e",
   "metadata": {
    "deletable": false,
    "editable": false
   },
   "outputs": [
    {
     "data": {
      "text/plain": "q2_5 results: All test cases passed!",
      "text/html": "<p><strong><pre style='display: inline;'>q2_5</pre></strong> passed!</p>"
     },
     "execution_count": 39,
     "metadata": {},
     "output_type": "execute_result"
    }
   ],
   "source": [
    "grader.check(\"q2_5\")"
   ]
  },
  {
   "cell_type": "markdown",
   "id": "b454bff9",
   "metadata": {
    "deletable": false,
    "editable": false
   },
   "source": [
    "**Question 2.6.** Set `plover_statements` to an array of integer(s) that correspond to statement(s) that are true. **(6 points)**\n",
    "\n",
    "1. The 95% confidence interval covers 95% of the bird weights for eggs that had a weight of eight grams in `birds`.\n",
    "\n",
    "2. The 95% confidence interval gives a sense of how much actual wait times differ from your prediction.\n",
    "\n",
    "3. The 95% confidence interval quantifies the uncertainty in our estimate of what the true line would predict.\n",
    "\n",
    "<!--\n",
    "BEGIN QUESTION\n",
    "name: q2_6\n",
    "manual: false\n",
    "points:\n",
    " - 0\n",
    " - 3\n",
    " - 3\n",
    "-->"
   ]
  },
  {
   "cell_type": "code",
   "execution_count": 40,
   "id": "a5ebf145",
   "metadata": {
    "ExecuteTime": {
     "end_time": "2018-04-11T12:05:56.479878Z",
     "start_time": "2018-04-11T12:05:56.476869Z"
    },
    "deletable": false,
    "execution": {
     "iopub.execute_input": "2021-11-11T08:31:15.452613Z",
     "iopub.status.busy": "2021-11-11T08:31:15.452015Z",
     "iopub.status.idle": "2021-11-11T08:31:15.455636Z",
     "shell.execute_reply": "2021-11-11T08:31:15.454998Z"
    }
   },
   "outputs": [],
   "source": [
    "plover_statements = make_array(2, 3)"
   ]
  },
  {
   "cell_type": "code",
   "execution_count": 41,
   "id": "9c77cfc1",
   "metadata": {
    "deletable": false,
    "editable": false
   },
   "outputs": [
    {
     "data": {
      "text/plain": "q2_6 results: All test cases passed!",
      "text/html": "<p><strong><pre style='display: inline;'>q2_6</pre></strong> passed!</p>"
     },
     "execution_count": 41,
     "metadata": {},
     "output_type": "execute_result"
    }
   ],
   "source": [
    "grader.check(\"q2_6\")"
   ]
  },
  {
   "cell_type": "markdown",
   "id": "a4964a5a",
   "metadata": {},
   "source": [
    "You're done with Homework 11!  \n",
    "\n",
    "**Important submission steps:** \n",
    "1. Run the tests and verify that they all pass.\n",
    "2. Choose **Save and Checkpoint** from the **File** menu, then **run the final cell**. \n",
    "3. Click the link to download the zip file.\n",
    "4. Go to [Gradescope](https://www.gradescope.com/courses/288788) and submit the zip file to the corresponding assignment. The name of this assignment is \"HW 11 Autograder\". \n",
    "\n",
    "**It is your responsibility to make sure your work is saved before running the last cell.**"
   ]
  },
  {
   "cell_type": "markdown",
   "id": "c29cf24f",
   "metadata": {
    "deletable": false,
    "editable": false
   },
   "source": [
    "---\n",
    "\n",
    "To double-check your work, the cell below will rerun all of the autograder tests."
   ]
  },
  {
   "cell_type": "code",
   "execution_count": 42,
   "id": "06a02a58",
   "metadata": {
    "deletable": false,
    "editable": false
   },
   "outputs": [
    {
     "data": {
      "text/plain": "q1_2 results: All test cases passed!\n\nq1_3 results: All test cases passed!\n\nq1_4 results: All test cases passed!\n\nq1_5 results: All test cases passed!\n\nq2_1 results: All test cases passed!\n\nq2_2 results: All test cases passed!\n\nq2_3 results: All test cases passed!\n\nq2_4 results: All test cases passed!\n\nq2_5 results: All test cases passed!\n\nq2_6 results: All test cases passed!"
     },
     "execution_count": 42,
     "metadata": {},
     "output_type": "execute_result"
    }
   ],
   "source": [
    "grader.check_all()"
   ]
  },
  {
   "cell_type": "markdown",
   "id": "b2155c59",
   "metadata": {
    "deletable": false,
    "editable": false
   },
   "source": [
    "## Submission\n",
    "\n",
    "Make sure you have run all cells in your notebook in order before running the cell below, so that all images/graphs appear in the output. The cell below will generate a zip file for you to submit. **Please save before exporting!**"
   ]
  },
  {
   "cell_type": "code",
   "execution_count": null,
   "id": "5ee10a9a",
   "metadata": {
    "deletable": false,
    "editable": false
   },
   "outputs": [],
   "source": [
    "# Save your notebook first, then run this cell to export your submission.\n",
    "grader.export(pdf=False, force_save=True)"
   ]
  },
  {
   "cell_type": "markdown",
   "id": "7365adda",
   "metadata": {},
   "source": [
    " "
   ]
  }
 ],
 "metadata": {
  "kernelspec": {
   "display_name": "Python 3",
   "language": "python",
   "name": "python3"
  },
  "language_info": {
   "codemirror_mode": {
    "name": "ipython",
    "version": 3
   },
   "file_extension": ".py",
   "mimetype": "text/x-python",
   "name": "python",
   "nbconvert_exporter": "python",
   "pygments_lexer": "ipython3",
   "version": "3.9.7"
  }
 },
 "nbformat": 4,
 "nbformat_minor": 5
}