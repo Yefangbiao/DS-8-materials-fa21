{
 "cells": [
  {
   "cell_type": "code",
   "execution_count": 1,
   "metadata": {
    "deletable": false,
    "editable": false
   },
   "outputs": [],
   "source": [
    "# Initialize Otter\n",
    "import otter\n",
    "grader = otter.Notebook(\"hw04.ipynb\")"
   ]
  },
  {
   "cell_type": "markdown",
   "metadata": {},
   "source": [
    "# Homework 4: Functions, Tables, and Groups\n",
    "\n",
    "Please complete this notebook by filling in the cells provided. Before you begin, execute the previous cell to load the provided tests."
   ]
  },
  {
   "cell_type": "markdown",
   "metadata": {},
   "source": [
    "**Helpful Resource:**\n",
    "- [Python Reference](http://data8.org/fa21/python-reference.html): Cheat sheet of helpful array & table methods used in Data 8!\n",
    "\n",
    "**Recommended Readings**: \n",
    "* [Visualizing Numerical Distributions](https://www.inferentialthinking.com/chapters/07/2/Visualizing_Numerical_Distributions.html)\n",
    "* [Functions and Tables](https://www.inferentialthinking.com/chapters/08/Functions_and_Tables.html)"
   ]
  },
  {
   "cell_type": "markdown",
   "metadata": {},
   "source": [
    "Please complete this notebook by filling in the cells provided. Before you begin, execute the following cell to setup the notebook by importing some helpful libraries. Each time you start your server, you will need to execute this cell again.\n",
    "\n",
    "For all problems that you must write explanations and sentences for, you **must** provide your answer in the designated space. **Moreover, throughout this homework and all future ones, please be sure to not re-assign variables throughout the notebook!** For example, if you use `max_temperature` in your answer to one question, do not reassign it later on. Otherwise, you will fail tests that you thought you were passing previously!\n",
    "\n",
    "**Deadline:**\n",
    "\n",
    "This assignment is due Thursday, 9/23 at 11:59pm PT. Turn it in on Wednesday by 11:59pm PT for 5 extra credit points. Late work will not be accepted as per the [policies](http://data8.org/fa21/policies.html) page.\n",
    "\n",
    "\n",
    "**Note: This homework has hidden tests on it. That means even though tests may say 100% passed, doesn't mean your final grade will be 100%. We will be running more tests for correctness once everyone turns in the homework.**\n",
    "\n",
    "\n",
    "Directly sharing answers is not okay, but discussing problems with the course staff or with other students is encouraged. Refer to the policies page to learn more about how to learn cooperatively.\n",
    "\n",
    "You should start early so that you have time to get help if you're stuck. Office hours are held Monday-Friday. The schedule appears on [http://data8.org/fa21/office-hours.html](http://data8.org/fa21/office-hours.html)."
   ]
  },
  {
   "cell_type": "markdown",
   "metadata": {},
   "source": [
    "## 1. Burrito-ful San Diego"
   ]
  },
  {
   "cell_type": "code",
   "execution_count": 2,
   "metadata": {},
   "outputs": [],
   "source": [
    "# Run this cell to set up the notebook, but please don't change it.\n",
    "\n",
    "# These lines import the Numpy and Datascience modules.\n",
    "import numpy as np\n",
    "from datascience import *\n",
    "import d8error\n",
    "\n",
    "# These lines do some fancy plotting magic.\n",
    "import matplotlib\n",
    "%matplotlib inline\n",
    "import matplotlib.pyplot as plt\n",
    "plt.style.use('fivethirtyeight')\n",
    "import warnings\n",
    "warnings.simplefilter('ignore', FutureWarning)"
   ]
  },
  {
   "cell_type": "markdown",
   "metadata": {},
   "source": [
    "Tam, Margaret, and Winifred are trying to use Data Science to find the best burritos in San Diego! Their friends Irene and Maya provided them with two comprehensive datasets on many burrito establishments in the San Diego area taken from (and cleaned from): https://www.kaggle.com/srcole/burritos-in-san-diego/data"
   ]
  },
  {
   "cell_type": "markdown",
   "metadata": {},
   "source": [
    "The following cell reads in a table called `ratings` which contains names of burrito restaurants, their Yelp rating, Google rating, as well as their Overall rating. The `Overall` rating is not an average of the `Yelp` and `Google` ratings, but rather it is the overall rating of the customers that were surveyed in the study above.\n",
    "\n",
    "\n",
    "It also reads in a table called `burritos_types` which contains names of burrito restaurants, their menu items, and the cost of the respective menu item at the restaurant."
   ]
  },
  {
   "cell_type": "code",
   "execution_count": 3,
   "metadata": {
    "deletable": false,
    "editable": false
   },
   "outputs": [
    {
     "data": {
      "text/plain": "<IPython.core.display.HTML object>",
      "text/html": "<table border=\"1\" class=\"dataframe\">\n    <thead>\n        <tr>\n            <th>Name</th> <th>Yelp</th> <th>Google</th> <th>Overall</th>\n        </tr>\n    </thead>\n    <tbody>\n        <tr>\n            <td>Albertacos                </td> <td>3.5 </td> <td>3.9   </td> <td>3.45   </td>\n        </tr>\n        <tr>\n            <td>Burrito Factory           </td> <td>4.5 </td> <td>4.8   </td> <td>3.5    </td>\n        </tr>\n        <tr>\n            <td>Burros and Fries          </td> <td>3.5 </td> <td>4.1   </td> <td>3.575  </td>\n        </tr>\n        <tr>\n            <td>Caliente Mexican Food     </td> <td>3.5 </td> <td>4.4   </td> <td>3.25   </td>\n        </tr>\n        <tr>\n            <td>California Burrito Company</td> <td>3.5 </td> <td>4.4   </td> <td>3.2    </td>\n        </tr>\n    </tbody>\n</table>\n<p>... (77 rows omitted)</p>"
     },
     "metadata": {},
     "output_type": "display_data"
    },
    {
     "data": {
      "text/plain": "<IPython.core.display.HTML object>",
      "text/html": "<table border=\"1\" class=\"dataframe\">\n    <thead>\n        <tr>\n            <th>Name</th> <th>Menu_Item</th> <th>Cost</th>\n        </tr>\n    </thead>\n    <tbody>\n        <tr>\n            <td>Albertacos                                         </td> <td>California          </td> <td>5.7 </td>\n        </tr>\n        <tr>\n            <td>Albertacos                                         </td> <td>Carne asada         </td> <td>5.25</td>\n        </tr>\n        <tr>\n            <td>Alberto's 623 N Escondido Blvd, Escondido, CA 92025</td> <td>Carne Asada         </td> <td>4.59</td>\n        </tr>\n        <tr>\n            <td>Burrito Box                                        </td> <td>Steak with guacamole</td> <td>11.5</td>\n        </tr>\n        <tr>\n            <td>Burrito Factory                                    </td> <td>Steak everything    </td> <td>7.35</td>\n        </tr>\n    </tbody>\n</table>\n<p>... (244 rows omitted)</p>"
     },
     "metadata": {},
     "output_type": "display_data"
    }
   ],
   "source": [
    "#Just run this cell\n",
    "ratings = Table.read_table(\"ratings.csv\")\n",
    "ratings.show(5)\n",
    "burritos_types = Table.read_table(\"burritos_types.csv\")\n",
    "burritos_types.show(5)"
   ]
  },
  {
   "cell_type": "markdown",
   "metadata": {
    "deletable": false,
    "editable": false
   },
   "source": [
    "**Question 1.** It would be easier if we could combine the information in both tables. Assign `burritos` to the result of joining the two tables together, so that we have a table with the ratings for every corresponding menu item from every restaurant. Each menu item has the same rating as the restaurant from which it is from. **(7 Points)**\n",
    "\n",
    "**Note:** It doesn't matter which table you put in as the argument to the table method, either order will work for the autograder tests.\n",
    "\n",
    "*Hint:* If you need help on using the `join` method, refer to [Python Reference](http://data8.org/fa21/python-reference.html) or [Section 8.4](https://www.inferentialthinking.com/chapters/08/4/Joining_Tables_by_Columns.html) in the textbook. This will be covered in Monday's lecture.\n",
    "\n",
    "<!--\n",
    "BEGIN QUESTION\n",
    "name: q1_1\n",
    "points:\n",
    " - 0\n",
    " - 0\n",
    " - 7\n",
    "-->"
   ]
  },
  {
   "cell_type": "code",
   "execution_count": 4,
   "metadata": {
    "scrolled": true
   },
   "outputs": [
    {
     "data": {
      "text/plain": "<IPython.core.display.HTML object>",
      "text/html": "<table border=\"1\" class=\"dataframe\">\n    <thead>\n        <tr>\n            <th>Name</th> <th>Yelp</th> <th>Google</th> <th>Overall</th> <th>Menu_Item</th> <th>Cost</th>\n        </tr>\n    </thead>\n    <tbody>\n        <tr>\n            <td>Albertacos      </td> <td>3.5 </td> <td>3.9   </td> <td>3.45   </td> <td>California       </td> <td>5.7 </td>\n        </tr>\n        <tr>\n            <td>Albertacos      </td> <td>3.5 </td> <td>3.9   </td> <td>3.45   </td> <td>Carne asada      </td> <td>5.25</td>\n        </tr>\n        <tr>\n            <td>Burrito Factory </td> <td>4.5 </td> <td>4.8   </td> <td>3.5    </td> <td>Steak everything </td> <td>7.35</td>\n        </tr>\n        <tr>\n            <td>Burros and Fries</td> <td>3.5 </td> <td>4.1   </td> <td>3.575  </td> <td>California       </td> <td>7.19</td>\n        </tr>\n        <tr>\n            <td>Burros and Fries</td> <td>3.5 </td> <td>4.1   </td> <td>3.575  </td> <td>Carne asada      </td> <td>6.89</td>\n        </tr>\n    </tbody>\n</table>\n<p>... (207 rows omitted)</p>"
     },
     "metadata": {},
     "output_type": "display_data"
    }
   ],
   "source": [
    "burritos = ratings.join('Name', burritos_types, 'Name')\n",
    "burritos.show(5)"
   ]
  },
  {
   "cell_type": "code",
   "execution_count": 5,
   "metadata": {
    "deletable": false,
    "editable": false
   },
   "outputs": [
    {
     "name": "stdout",
     "output_type": "stream",
     "text": [
      "q1_1 results: All test cases passed!\n"
     ]
    }
   ],
   "source": [
    "try:\n",
    "    print(grader.check(\"q1_1\"))\n",
    "except NameError:\n",
    "    print(\"Please run the cells at the very top of this notebook, from the top down, then run this cell again.\")"
   ]
  },
  {
   "cell_type": "markdown",
   "metadata": {
    "deletable": false,
    "editable": false
   },
   "source": [
    "<!-- BEGIN QUESTION -->\n",
    "\n",
    "**Question 2.** Let's look at how the Yelp scores compare to the Google scores in the `burritos` table. First, assign `yelp_and_google` to a table only containing the columns `Yelp` and `Google`. Then, make a scatter plot with Yelp scores on the x-axis and the Google scores on the y-axis. **(7 Points)**\n",
    "\n",
    "<!--\n",
    "BEGIN QUESTION\n",
    "name: q1_2\n",
    "manual: True\n",
    "-->"
   ]
  },
  {
   "cell_type": "code",
   "execution_count": 11,
   "metadata": {},
   "outputs": [
    {
     "data": {
      "text/plain": "<Figure size 360x360 with 1 Axes>",
      "image/png": "[encoded data removed]"
     },
     "metadata": {},
     "output_type": "display_data"
    }
   ],
   "source": [
    "yelp_and_google = burritos.select('Yelp', 'Google')\n",
    "yelp_and_google.scatter('Yelp', 'Google')\n",
    "\n",
    "# Don't change/edit/remove the following line.\n",
    "# To help you make conclusions, we have plotted a straight line on the graph (y=x)\n",
    "plt.plot(np.arange(2.5,5,.5), np.arange(2.5,5,.5));"
   ]
  },
  {
   "cell_type": "code",
   "execution_count": 12,
   "metadata": {
    "deletable": false,
    "editable": false
   },
   "outputs": [
    {
     "data": {
      "text/plain": "q1_2 results: All test cases passed!",
      "text/html": "<p><strong><pre style='display: inline;'>q1_2</pre></strong> passed!</p>"
     },
     "execution_count": 12,
     "metadata": {},
     "output_type": "execute_result"
    }
   ],
   "source": [
    "grader.check(\"q1_2\")"
   ]
  },
  {
   "cell_type": "markdown",
   "metadata": {
    "deletable": false,
    "editable": false
   },
   "source": [
    "<!-- END QUESTION -->\n",
    "\n",
    "<!-- BEGIN QUESTION -->\n",
    "\n",
    "**Question 3.** Looking at the scatter plot you just made in Question 1.2, do you notice any pattern(s) (i.e. is one of the two types of scores consistently higher than the other one)? If so, describe them **briefly** in the cell below. **(7 Points)**\n",
    "\n",
    "<!--\n",
    "BEGIN QUESTION\n",
    "name: q1_3\n",
    "manual: True\n",
    "-->"
   ]
  },
  {
   "cell_type": "markdown",
   "metadata": {},
   "source": [
    "_Type your answer here, replacing this text._\n",
    "No"
   ]
  },
  {
   "cell_type": "markdown",
   "metadata": {},
   "source": [
    "<!-- END QUESTION -->\n",
    "\n",
    "\n",
    "\n",
    "Here's a refresher on how `.group` works! You can read how `.group` works in the [textbook](https://www.inferentialthinking.com/chapters/08/2/Classifying_by_One_Variable.html), or you can view the video below. The video resource was made by a past staff member - Divyesh Chotai! \n",
    "\n",
    "You can also use the [Table Functions Visualizer](http://data8.org/interactive_table_functions/) to get some more hands-on experience with the `.group` function!"
   ]
  },
  {
   "cell_type": "code",
   "execution_count": 9,
   "metadata": {},
   "outputs": [],
   "source": [
    "from IPython.display import YouTubeVideo\n",
    "YouTubeVideo(\"HLoYTCUP0fc\")"
   ]
  },
  {
   "cell_type": "markdown",
   "metadata": {
    "deletable": false,
    "editable": false
   },
   "source": [
    "**Question 4.** There are so many types of California burritos in the `burritos` table! Winifred wants to know which type is the highest rated across all restaurants. *Note: For the sake of these questions, we are treating each menu item's rating the same as its respective restaurant's, as we do not have the rating of every single item at these restaurants. You do not need to worry about this fact, but we thought to mention it!*\n",
    "\n",
    "Create a table that has two columns: the name of the burrito and the average overall rating of that burrito across restaurants. **In your calculations, you should compare burritos that contain the word \"California\".** For example, there's \"California\" burritos, \"California breakfast\" burritos, \"California Surf and Turf\" burritos, etc. **(7 Points)**\n",
    "\n",
    "*Hint:* If multiple restaurants serve the \"California - Chicken\" burrito, what table method can we use to aggregate those together and find the average overall rating?\n",
    "\n",
    "**Note:** You can break up the solution into multiple lines, as long as you assign the final output table to `california_burritos`! For reference however, the staff solution only used one line.\n",
    "\n",
    "<!--\n",
    "BEGIN QUESTION\n",
    "name: q1_4\n",
    "points:\n",
    " - 1\n",
    " - 1\n",
    " - 5\n",
    "-->"
   ]
  },
  {
   "cell_type": "code",
   "execution_count": 19,
   "metadata": {},
   "outputs": [
    {
     "data": {
      "text/plain": "Menu_Item                      | Overall average\nCalifornia                     | 3.5242\nCalifornia (only cheese)       | 4.1\nCalifornia + Guac + sour cream | 3.4\nCalifornia - Chicken           | 3.45839\nCalifornia - Pork Adobada      | 3.26429\nCalifornia - Steak             | 3.26429\nCalifornia Chipotle            | 4.36667\nCalifornia Everything          | 4.1\nCalifornia Everything mini     | 4.1\nCalifornia Surf                | 3.66667\n... (9 rows omitted)",
      "text/html": "<table border=\"1\" class=\"dataframe\">\n    <thead>\n        <tr>\n            <th>Menu_Item</th> <th>Overall average</th>\n        </tr>\n    </thead>\n    <tbody>\n        <tr>\n            <td>California                    </td> <td>3.5242         </td>\n        </tr>\n        <tr>\n            <td>California (only cheese)      </td> <td>4.1            </td>\n        </tr>\n        <tr>\n            <td>California + Guac + sour cream</td> <td>3.4            </td>\n        </tr>\n        <tr>\n            <td>California - Chicken          </td> <td>3.45839        </td>\n        </tr>\n        <tr>\n            <td>California - Pork Adobada     </td> <td>3.26429        </td>\n        </tr>\n        <tr>\n            <td>California - Steak            </td> <td>3.26429        </td>\n        </tr>\n        <tr>\n            <td>California Chipotle           </td> <td>4.36667        </td>\n        </tr>\n        <tr>\n            <td>California Everything         </td> <td>4.1            </td>\n        </tr>\n        <tr>\n            <td>California Everything mini    </td> <td>4.1            </td>\n        </tr>\n        <tr>\n            <td>California Surf               </td> <td>3.66667        </td>\n        </tr>\n    </tbody>\n</table>\n<p>... (9 rows omitted)</p>"
     },
     "execution_count": 19,
     "metadata": {},
     "output_type": "execute_result"
    }
   ],
   "source": [
    "california_burritos = burritos.where('Menu_Item', are.containing('California')).select('Menu_Item', 'Overall').group('Menu_Item', collect=np.average) # type: Table\n",
    "california_burritos"
   ]
  },
  {
   "cell_type": "code",
   "execution_count": 20,
   "metadata": {
    "deletable": false,
    "editable": false
   },
   "outputs": [
    {
     "data": {
      "text/plain": "q1_4 results: All test cases passed!",
      "text/html": "<p><strong><pre style='display: inline;'>q1_4</pre></strong> passed!</p>"
     },
     "execution_count": 20,
     "metadata": {},
     "output_type": "execute_result"
    }
   ],
   "source": [
    "grader.check(\"q1_4\")"
   ]
  },
  {
   "cell_type": "markdown",
   "metadata": {
    "deletable": false,
    "editable": false
   },
   "source": [
    "**Question 5.** Given this new table `california_burritos`, Winifred can figure out the name of the California burrito with the highest overall average rating! Assign `best_california_burrito` to a line of code that outputs the string that represents the name of the California burrito with the highest overall average rating. If multiple burritos satisfy this criteria, you can output any one of them. **(8 Points)**\n",
    "\n",
    "<!--\n",
    "BEGIN QUESTION\n",
    "name: q1_5\n",
    "points:\n",
    " - 0\n",
    " - 8\n",
    "-->"
   ]
  },
  {
   "cell_type": "code",
   "execution_count": 39,
   "metadata": {},
   "outputs": [
    {
     "name": "stdout",
     "output_type": "stream",
     "text": [
      "<class 'str'>\n"
     ]
    },
    {
     "data": {
      "text/plain": "'Menu_Item            | Overall average\\nCalifornia breakfast | 2.75833'"
     },
     "execution_count": 39,
     "metadata": {},
     "output_type": "execute_result"
    }
   ],
   "source": [
    "best_california_burrito = str(california_burritos.sort('Overall average').take(0))\n",
    "best_california_burrito"
   ]
  },
  {
   "cell_type": "code",
   "execution_count": 40,
   "metadata": {
    "deletable": false,
    "editable": false
   },
   "outputs": [
    {
     "data": {
      "text/plain": "q1_5 results: All test cases passed!",
      "text/html": "<p><strong><pre style='display: inline;'>q1_5</pre></strong> passed!</p>"
     },
     "execution_count": 40,
     "metadata": {},
     "output_type": "execute_result"
    }
   ],
   "source": [
    "grader.check(\"q1_5\")"
   ]
  },
  {
   "cell_type": "markdown",
   "metadata": {
    "deletable": false,
    "editable": false
   },
   "source": [
    "**Question 6.** Using the `burritos` table, assign `menu_average` to a table that has three columns that uniquely pairs the name of the restaurant, the menu item featured in the review, and the average overall score for that menu item at that restaurant. **(8 Points)**\n",
    "\n",
    "*Hint:* Use `.group`, and remember that you can group by multiple columns. Here's an example from the [textbook](https://www.inferentialthinking.com/chapters/08/3/Cross-Classifying_by_More_than_One_Variable.html).\n",
    "\n",
    "<!--\n",
    "BEGIN QUESTION\n",
    "name: q1_6\n",
    "points:\n",
    " - 0\n",
    " - 8\n",
    "-->"
   ]
  },
  {
   "cell_type": "code",
   "execution_count": 42,
   "metadata": {},
   "outputs": [
    {
     "data": {
      "text/plain": "Name                       | Menu_Item         | Overall\nAlbertacos                 | California        | 3.45\nAlbertacos                 | Carne asada       | 3.45\nBurrito Factory            | Steak everything  | 3.5\nBurros and Fries           | California        | 3.575\nBurros and Fries           | Carne asada       | 3.575\nBurros and Fries           | Shrimp California | 3.575\nCaliente Mexican Food      | California        | 3.25\nCaliente Mexican Food      | carne asada       | 3.25\nCaliente Mexican Food      | fried fish        | 3.25\nCalifornia Burrito Company | California        | 3.2\n... (202 rows omitted)",
      "text/html": "<table border=\"1\" class=\"dataframe\">\n    <thead>\n        <tr>\n            <th>Name</th> <th>Menu_Item</th> <th>Overall</th>\n        </tr>\n    </thead>\n    <tbody>\n        <tr>\n            <td>Albertacos                </td> <td>California       </td> <td>3.45   </td>\n        </tr>\n        <tr>\n            <td>Albertacos                </td> <td>Carne asada      </td> <td>3.45   </td>\n        </tr>\n        <tr>\n            <td>Burrito Factory           </td> <td>Steak everything </td> <td>3.5    </td>\n        </tr>\n        <tr>\n            <td>Burros and Fries          </td> <td>California       </td> <td>3.575  </td>\n        </tr>\n        <tr>\n            <td>Burros and Fries          </td> <td>Carne asada      </td> <td>3.575  </td>\n        </tr>\n        <tr>\n            <td>Burros and Fries          </td> <td>Shrimp California</td> <td>3.575  </td>\n        </tr>\n        <tr>\n            <td>Caliente Mexican Food     </td> <td>California       </td> <td>3.25   </td>\n        </tr>\n        <tr>\n            <td>Caliente Mexican Food     </td> <td>carne asada      </td> <td>3.25   </td>\n        </tr>\n        <tr>\n            <td>Caliente Mexican Food     </td> <td>fried fish       </td> <td>3.25   </td>\n        </tr>\n        <tr>\n            <td>California Burrito Company</td> <td>California       </td> <td>3.2    </td>\n        </tr>\n    </tbody>\n</table>\n<p>... (202 rows omitted)</p>"
     },
     "execution_count": 42,
     "metadata": {},
     "output_type": "execute_result"
    }
   ],
   "source": [
    "menu_average = burritos.select('Name', 'Menu_Item', 'Overall')\n",
    "menu_average"
   ]
  },
  {
   "cell_type": "code",
   "execution_count": 43,
   "metadata": {
    "deletable": false,
    "editable": false
   },
   "outputs": [
    {
     "data": {
      "text/plain": "q1_6 results: All test cases passed!",
      "text/html": "<p><strong><pre style='display: inline;'>q1_6</pre></strong> passed!</p>"
     },
     "execution_count": 43,
     "metadata": {},
     "output_type": "execute_result"
    }
   ],
   "source": [
    "grader.check(\"q1_6\")"
   ]
  },
  {
   "cell_type": "markdown",
   "metadata": {
    "deletable": false,
    "editable": false
   },
   "source": [
    "<!-- BEGIN QUESTION -->\n",
    "\n",
    "**Question 7.** Tam thinks that burritos in San Diego are cheaper (and taste better) than the burritos in Berkeley. Plot a histogram that visualizes that distribution of the costs of the burritos from San Diego in the `burritos` table. Also use the provided `bins` variable when making your histogram, so that the histogram is more visually informative. **(8 Points)**\n",
    "\n",
    "<!--\n",
    "BEGIN QUESTION\n",
    "name: q1_7\n",
    "manual: True\n",
    "-->"
   ]
  },
  {
   "cell_type": "code",
   "execution_count": 52,
   "outputs": [
    {
     "data": {
      "text/plain": "<Figure size 432x288 with 1 Axes>",
      "image/png": "[encoded data removed]"
     },
     "metadata": {},
     "output_type": "display_data"
    }
   ],
   "source": [
    "bins = np.arange(0, 15, 1)\n",
    "# Please also use the provided bins\n",
    "burritos.hist('Cost', bins=bins)"
   ],
   "metadata": {
    "collapsed": false,
    "pycharm": {
     "name": "#%%\n"
    }
   }
  },
  {
   "cell_type": "markdown",
   "source": [
    "<!-- END QUESTION -->\n",
    "\n",
    "**Question 8.** What percentage of burritos in San Diego are less than $6? Assign `burritos_less_than_6` to your answer, which should be between 0 and 100. You should only use the histogram above to answer the question. Do not use code on the table to to find the answer, just eyeball the heights and use Python to evaluate your arithmetic! **(8 Points)**\n",
    "\n",
    "Your answer does not have to be exact, but it should be within a couple percentages of the staff answer.\n",
    "\n",
    "<!--\n",
    "BEGIN QUESTION\n",
    "name: q1_8\n",
    "manual: False\n",
    "points:\n",
    " - 0\n",
    " - 8\n",
    "-->"
   ],
   "metadata": {
    "collapsed": false
   }
  },
  {
   "cell_type": "code",
   "execution_count": 53,
   "metadata": {},
   "outputs": [],
   "source": [
    "burritos_less_than_6 = 30"
   ]
  },
  {
   "cell_type": "code",
   "execution_count": 54,
   "metadata": {
    "deletable": false,
    "editable": false
   },
   "outputs": [
    {
     "data": {
      "text/plain": "q1_8 results: All test cases passed!",
      "text/html": "<p><strong><pre style='display: inline;'>q1_8</pre></strong> passed!</p>"
     },
     "execution_count": 54,
     "metadata": {},
     "output_type": "execute_result"
    }
   ],
   "source": [
    "grader.check(\"q1_8\")"
   ]
  },
  {
   "cell_type": "markdown",
   "metadata": {},
   "source": [
    "## 2. San Francisco City Employee Salaries"
   ]
  },
  {
   "cell_type": "markdown",
   "metadata": {},
   "source": [
    "This exercise is designed to give you practice using the Table methods `pivot` and `group`. [Here](http://data8.org/fa21/python-reference.html) is a link to the Python reference page in case you need a quick refresher. The [table function visualizer](http://data8.org/interactive_table_functions/) is also a helpful tool.\n",
    "\n",
    "Run the cell below to view a demo on how you can use pivot on a table. (Thank you to past staff Divyesh Chotai)"
   ]
  },
  {
   "cell_type": "code",
   "execution_count": 2,
   "metadata": {
    "scrolled": true
   },
   "outputs": [],
   "source": [
    "from IPython.display import YouTubeVideo\n",
    "YouTubeVideo(\"4WzXo8eKLAg\")"
   ]
  },
  {
   "cell_type": "markdown",
   "metadata": {},
   "source": [
    "The data source we will use within this portion of the homework is [publicly provided](https://data.sfgov.org/City-Management-and-Ethics/Employee-Compensation/88g8-5mnd/data) by the City of San Francisco. We have filtered it to retain just the relevant columns and restrict the data to the calendar year 2019. Run the following cell to load our data into a table called `full_sf`."
   ]
  },
  {
   "cell_type": "code",
   "execution_count": 55,
   "metadata": {},
   "outputs": [
    {
     "data": {
      "text/plain": "Organization Group | Department      | Job Family                    | Job                            | Salary | Overtime | Benefits | Total Compensation\nPublic Protection  | Adult Probation | Information Systems           | IS Trainer-Journey             | 91332  | 0        | 40059    | 131391\nPublic Protection  | Adult Probation | Information Systems           | IS Engineer-Assistant          | 123241 | 0        | 49279    | 172520\nPublic Protection  | Adult Probation | Information Systems           | IS Business Analyst-Senior     | 115715 | 0        | 46752    | 162468\nPublic Protection  | Adult Probation | Information Systems           | IS Business Analyst-Principal  | 159394 | 0        | 57312    | 216706\nPublic Protection  | Adult Probation | Information Systems           | IS Programmer Analyst          | 70035  | 0        | 28671    | 98706\nPublic Protection  | Adult Probation | Information Systems           | IS Project Director            | 175742 | 0        | 60830    | 236572\nPublic Protection  | Adult Probation | Information Systems           | IT Operations Support Admin IV | 123840 | 0        | 49429    | 173269\nPublic Protection  | Adult Probation | Payroll, Billing & Accounting | Accountant III                 | 111816 | 0        | 46319    | 158135\nPublic Protection  | Adult Probation | Budget, Admn & Stats Analysis | Statistician                   | 87725  | 0        | 38899    | 126624\nPublic Protection  | Adult Probation | Budget, Admn & Stats Analysis | Senior Administrative Analyst  | 116192 | 0        | 47651    | 163843\n... (44515 rows omitted)",
      "text/html": "<table border=\"1\" class=\"dataframe\">\n    <thead>\n        <tr>\n            <th>Organization Group</th> <th>Department</th> <th>Job Family</th> <th>Job</th> <th>Salary</th> <th>Overtime</th> <th>Benefits</th> <th>Total Compensation</th>\n        </tr>\n    </thead>\n    <tbody>\n        <tr>\n            <td>Public Protection </td> <td>Adult Probation</td> <td>Information Systems          </td> <td>IS Trainer-Journey            </td> <td>91332 </td> <td>0       </td> <td>40059   </td> <td>131391            </td>\n        </tr>\n        <tr>\n            <td>Public Protection </td> <td>Adult Probation</td> <td>Information Systems          </td> <td>IS Engineer-Assistant         </td> <td>123241</td> <td>0       </td> <td>49279   </td> <td>172520            </td>\n        </tr>\n        <tr>\n            <td>Public Protection </td> <td>Adult Probation</td> <td>Information Systems          </td> <td>IS Business Analyst-Senior    </td> <td>115715</td> <td>0       </td> <td>46752   </td> <td>162468            </td>\n        </tr>\n        <tr>\n            <td>Public Protection </td> <td>Adult Probation</td> <td>Information Systems          </td> <td>IS Business Analyst-Principal </td> <td>159394</td> <td>0       </td> <td>57312   </td> <td>216706            </td>\n        </tr>\n        <tr>\n            <td>Public Protection </td> <td>Adult Probation</td> <td>Information Systems          </td> <td>IS Programmer Analyst         </td> <td>70035 </td> <td>0       </td> <td>28671   </td> <td>98706             </td>\n        </tr>\n        <tr>\n            <td>Public Protection </td> <td>Adult Probation</td> <td>Information Systems          </td> <td>IS Project Director           </td> <td>175742</td> <td>0       </td> <td>60830   </td> <td>236572            </td>\n        </tr>\n        <tr>\n            <td>Public Protection </td> <td>Adult Probation</td> <td>Information Systems          </td> <td>IT Operations Support Admin IV</td> <td>123840</td> <td>0       </td> <td>49429   </td> <td>173269            </td>\n        </tr>\n        <tr>\n            <td>Public Protection </td> <td>Adult Probation</td> <td>Payroll, Billing & Accounting</td> <td>Accountant III                </td> <td>111816</td> <td>0       </td> <td>46319   </td> <td>158135            </td>\n        </tr>\n        <tr>\n            <td>Public Protection </td> <td>Adult Probation</td> <td>Budget, Admn & Stats Analysis</td> <td>Statistician                  </td> <td>87725 </td> <td>0       </td> <td>38899   </td> <td>126624            </td>\n        </tr>\n        <tr>\n            <td>Public Protection </td> <td>Adult Probation</td> <td>Budget, Admn & Stats Analysis</td> <td>Senior Administrative Analyst </td> <td>116192</td> <td>0       </td> <td>47651   </td> <td>163843            </td>\n        </tr>\n    </tbody>\n</table>\n<p>... (44515 rows omitted)</p>"
     },
     "execution_count": 55,
     "metadata": {},
     "output_type": "execute_result"
    }
   ],
   "source": [
    "full_sf = Table.read_table(\"sf2019.csv\")\n",
    "full_sf"
   ]
  },
  {
   "cell_type": "markdown",
   "metadata": {},
   "source": [
    "The table has one row for each of the 44,525 San Francisco government employees in 2019.\n",
    "\n",
    "The first four columns describe the employee's job. For example, the employee in the third row of the table had a job called \"IS Business Analyst-Senior\". We will also call this the employee's *position* or *job title*. The job was in a Job Family called Information Systems (hence the IS in the job title), and was in the Adult Probation department that is part of the Public Protection Organization Group of the government. You will mostly be working with the `Job` column.\n",
    "\n",
    "The next three columns contain the dollar amounts paid to the employee in the calendar year 2019 for salary, overtime, and benefits. Note that an employee’s salary does not include their overtime earnings.\n",
    "\n",
    "The last column contains the total compensation paid to the employee. It is the sum of the previous three columns:\n",
    "\n",
    "$$total\\:compensation = Salary + Overtime + Benefits$$\n",
    "\n",
    "For this homework, we will be using the following columns:\n",
    "1. `Organization Group`: A group of departments. For example, the **Public Protection** Org. Group includes departments such as the Police, Fire, Adult Protection, District Attorney, etc.\n",
    "2. `Department`: The primary organizational unit used by the City and County of San Francisco.\n",
    "3. `Job`: The specific position that a given worker fills.\n",
    "4. `Total Compensation`: The sum of a worker's salary, overtime, and benefits in 2019.\n",
    "\n",
    "\n",
    "Run the following cell to select the relevant columns and create a new table named `sf`."
   ]
  },
  {
   "cell_type": "code",
   "execution_count": 56,
   "metadata": {},
   "outputs": [
    {
     "data": {
      "text/plain": "Job                            | Department      | Organization Group | Total Compensation\nIS Trainer-Journey             | Adult Probation | Public Protection  | 131391\nIS Engineer-Assistant          | Adult Probation | Public Protection  | 172520\nIS Business Analyst-Senior     | Adult Probation | Public Protection  | 162468\nIS Business Analyst-Principal  | Adult Probation | Public Protection  | 216706\nIS Programmer Analyst          | Adult Probation | Public Protection  | 98706\nIS Project Director            | Adult Probation | Public Protection  | 236572\nIT Operations Support Admin IV | Adult Probation | Public Protection  | 173269\nAccountant III                 | Adult Probation | Public Protection  | 158135\nStatistician                   | Adult Probation | Public Protection  | 126624\nSenior Administrative Analyst  | Adult Probation | Public Protection  | 163843\n... (44515 rows omitted)",
      "text/html": "<table border=\"1\" class=\"dataframe\">\n    <thead>\n        <tr>\n            <th>Job</th> <th>Department</th> <th>Organization Group</th> <th>Total Compensation</th>\n        </tr>\n    </thead>\n    <tbody>\n        <tr>\n            <td>IS Trainer-Journey            </td> <td>Adult Probation</td> <td>Public Protection </td> <td>131391            </td>\n        </tr>\n        <tr>\n            <td>IS Engineer-Assistant         </td> <td>Adult Probation</td> <td>Public Protection </td> <td>172520            </td>\n        </tr>\n        <tr>\n            <td>IS Business Analyst-Senior    </td> <td>Adult Probation</td> <td>Public Protection </td> <td>162468            </td>\n        </tr>\n        <tr>\n            <td>IS Business Analyst-Principal </td> <td>Adult Probation</td> <td>Public Protection </td> <td>216706            </td>\n        </tr>\n        <tr>\n            <td>IS Programmer Analyst         </td> <td>Adult Probation</td> <td>Public Protection </td> <td>98706             </td>\n        </tr>\n        <tr>\n            <td>IS Project Director           </td> <td>Adult Probation</td> <td>Public Protection </td> <td>236572            </td>\n        </tr>\n        <tr>\n            <td>IT Operations Support Admin IV</td> <td>Adult Probation</td> <td>Public Protection </td> <td>173269            </td>\n        </tr>\n        <tr>\n            <td>Accountant III                </td> <td>Adult Probation</td> <td>Public Protection </td> <td>158135            </td>\n        </tr>\n        <tr>\n            <td>Statistician                  </td> <td>Adult Probation</td> <td>Public Protection </td> <td>126624            </td>\n        </tr>\n        <tr>\n            <td>Senior Administrative Analyst </td> <td>Adult Probation</td> <td>Public Protection </td> <td>163843            </td>\n        </tr>\n    </tbody>\n</table>\n<p>... (44515 rows omitted)</p>"
     },
     "execution_count": 56,
     "metadata": {},
     "output_type": "execute_result"
    }
   ],
   "source": [
    "sf = full_sf.select(\"Job\", \"Department\", \"Organization Group\",  \"Total Compensation\")\n",
    "sf"
   ]
  },
  {
   "cell_type": "markdown",
   "metadata": {},
   "source": [
    "We want to use this table to generate arrays with the job titles of the members of each **Organization Group**."
   ]
  },
  {
   "cell_type": "markdown",
   "metadata": {
    "deletable": false,
    "editable": false
   },
   "source": [
    "**Question 1.** Set `job_titles` to a table with two columns. The first column should be called `Organization Group` and have the name of every \"Organization Group\" once, and the second column should be called `Jobs` with each row in that second column containing an *array* of the names of all the job titles within that \"Organization Group\". Don't worry if there are multiple of the same job titles. **(8 Points)**\n",
    "\n",
    "*Hint:* Think about how ```group``` works: it collects values into an array and then applies a function to that array. We have defined two functions below for you, and you will need to use one of them in your call to ```group```.\n",
    "\n",
    "<!--\n",
    "BEGIN QUESTION\n",
    "name: q2_1\n",
    "points:\n",
    " - 0\n",
    " - 0\n",
    " - 0\n",
    " - 0\n",
    " - 4\n",
    " - 4\n",
    "-->"
   ]
  },
  {
   "cell_type": "code",
   "execution_count": 65,
   "metadata": {},
   "outputs": [
    {
     "data": {
      "text/plain": "Organization Group                       | Jobs\nCommunity Health                         | ['Painter Supervisor 1' 'Painter' 'Painter' ... 'Nursing ...\nCulture & Recreation                     | ['Electrician' 'Executive Secretary 2' 'Bldgs & Grounds  ...\nGeneral Administration & Finance         | ['Painter' 'Painter' 'Electrician' ... 'Investigator, Ta ...\nHuman Welfare & Neighborhood Development | ['Dept Head I' 'Administrative Analyst' 'Community Devel ...\nPublic Protection                        | ['IS Trainer-Journey' 'IS Engineer-Assistant' 'IS Busine ...\nPublic Works, Transportation & Commerce  | ['Heavy Equip Ops Asst Sprv' 'Heavy Equipment Ops Sprv'\n ...",
      "text/html": "<table border=\"1\" class=\"dataframe\">\n    <thead>\n        <tr>\n            <th>Organization Group</th> <th>Jobs</th>\n        </tr>\n    </thead>\n    <tbody>\n        <tr>\n            <td>Community Health                        </td> <td>['Painter Supervisor 1' 'Painter' 'Painter' ... 'Nursing ...</td>\n        </tr>\n        <tr>\n            <td>Culture & Recreation                    </td> <td>['Electrician' 'Executive Secretary 2' 'Bldgs & Grounds  ...</td>\n        </tr>\n        <tr>\n            <td>General Administration & Finance        </td> <td>['Painter' 'Painter' 'Electrician' ... 'Investigator, Ta ...</td>\n        </tr>\n        <tr>\n            <td>Human Welfare & Neighborhood Development</td> <td>['Dept Head I' 'Administrative Analyst' 'Community Devel ...</td>\n        </tr>\n        <tr>\n            <td>Public Protection                       </td> <td>['IS Trainer-Journey' 'IS Engineer-Assistant' 'IS Busine ...</td>\n        </tr>\n        <tr>\n            <td>Public Works, Transportation & Commerce </td> <td>['Heavy Equip Ops Asst Sprv' 'Heavy Equipment Ops Sprv'\n ...</td>\n        </tr>\n    </tbody>\n</table>"
     },
     "execution_count": 65,
     "metadata": {},
     "output_type": "execute_result"
    }
   ],
   "source": [
    "# Pick one of the two functions defined below in your call to group.\n",
    "def function1(array):\n",
    "    '''Returns the first item'''\n",
    "    return array.item(0)\n",
    "\n",
    "def function2(array):\n",
    "    '''Returns the array that is passed through'''\n",
    "    return array \n",
    "\n",
    "# Make a call to group using one of the functions above when you define job_titles\n",
    "job_titles = sf.select('Organization Group', 'Job').group('Organization Group', collect=function2).relabel('Job function2', 'Jobs')\n",
    "job_titles"
   ]
  },
  {
   "cell_type": "code",
   "execution_count": 67,
   "metadata": {
    "deletable": false,
    "editable": false
   },
   "outputs": [
    {
     "data": {
      "text/plain": "q2_1 results: All test cases passed!",
      "text/html": "<p><strong><pre style='display: inline;'>q2_1</pre></strong> passed!</p>"
     },
     "execution_count": 67,
     "metadata": {},
     "output_type": "execute_result"
    }
   ],
   "source": [
    "grader.check(\"q2_1\")"
   ]
  },
  {
   "cell_type": "markdown",
   "metadata": {},
   "source": [
    "#### Understanding the code you just wrote in 2.1 is important for moving forward with the class! If you made a lucky guess, take some time to look at the code, step by step."
   ]
  },
  {
   "cell_type": "markdown",
   "metadata": {
    "deletable": false,
    "editable": false
   },
   "source": [
    "<!-- BEGIN QUESTION -->\n",
    "\n",
    "**Question 2.** At the moment, the `Job` column of the `sf` table is not sorted (no particular order). Would the arrays you generated in the `Jobs` column of the previous question be the same if we had sorted alphabetically instead before generating them? Explain your answer.  **(8 Points)**\n",
    "\n",
    "**Note:** Two arrays are the **same** if they contain the same number of elements and the elements located at corresponding indexes in the two arrays are identical. An example of arrays that are NOT the same: `array([1,2]) != array([2,1])`.\n",
    "\n",
    "<!--\n",
    "BEGIN QUESTION\n",
    "name: q2_2\n",
    "manual: True\n",
    "-->"
   ]
  },
  {
   "cell_type": "markdown",
   "metadata": {},
   "source": [
    "_Type your answer here, replacing this text._\n",
    "No"
   ]
  },
  {
   "cell_type": "markdown",
   "metadata": {
    "deletable": false,
    "editable": false
   },
   "source": [
    "<!-- END QUESTION -->\n",
    "\n",
    "**Question 3.** Set `department_ranges` to a table containing departments as the rows, and the organization groups as the columns. The values in the rows should correspond to a total compensation range, where range is defined as the **difference between the highest total compensation and the lowest total compensation in the department for that organization group**. **(8 Points)**\n",
    "\n",
    "*Hint 1:* First you'll need to define a new function `compensation_range` which takes in an array of compensations and returns the range of compensations in that array.\n",
    "\n",
    "*Hint 2:* What table function allows you to specify the rows and columns of a new table? You probably watched a video on it earlier in the homework!\n",
    "\n",
    "<!--\n",
    "BEGIN QUESTION\n",
    "name: q2_3\n",
    "manual: False\n",
    "points:\n",
    " - 0\n",
    " - 0\n",
    " - 1\n",
    " - 7\n",
    "-->"
   ]
  },
  {
   "cell_type": "code",
   "execution_count": 76,
   "metadata": {},
   "outputs": [
    {
     "data": {
      "text/plain": "Department              | Community Health | Culture & Recreation | General Administration & Finance | Human Welfare & Neighborhood Development | Public Protection | Public Works, Transportation & Commerce\nAcademy Of Sciences     | 0                | 199121               | 0                                | 0                                        | 0                 | 0\nAdministrative Services | 0                | 0                    | 478784                           | 0                                        | 0                 | 0\nAdult Probation         | 0                | 0                    | 0                                | 0                                        | 303419            | 0\nAirport Commission      | 0                | 0                    | 0                                | 0                                        | 0                 | 445092\nArt Commission          | 0                | 251823               | 0                                | 0                                        | 0                 | 0\nAsian Art Museum        | 0                | 298230               | 0                                | 0                                        | 0                 | 0\nAssessor                | 0                | 0                    | 277385                           | 0                                        | 0                 | 0\nBoard Of Appeals        | 0                | 0                    | 0                                | 0                                        | 0                 | 243582\nBoard Of Supervisors    | 0                | 0                    | 293773                           | 0                                        | 0                 | 0\nBuilding Inspection     | 0                | 0                    | 0                                | 0                                        | 0                 | 340852\n... (41 rows omitted)",
      "text/html": "<table border=\"1\" class=\"dataframe\">\n    <thead>\n        <tr>\n            <th>Department</th> <th>Community Health</th> <th>Culture & Recreation</th> <th>General Administration & Finance</th> <th>Human Welfare & Neighborhood Development</th> <th>Public Protection</th> <th>Public Works, Transportation & Commerce</th>\n        </tr>\n    </thead>\n    <tbody>\n        <tr>\n            <td>Academy Of Sciences    </td> <td>0               </td> <td>199121              </td> <td>0                               </td> <td>0                                       </td> <td>0                </td> <td>0                                      </td>\n        </tr>\n        <tr>\n            <td>Administrative Services</td> <td>0               </td> <td>0                   </td> <td>478784                          </td> <td>0                                       </td> <td>0                </td> <td>0                                      </td>\n        </tr>\n        <tr>\n            <td>Adult Probation        </td> <td>0               </td> <td>0                   </td> <td>0                               </td> <td>0                                       </td> <td>303419           </td> <td>0                                      </td>\n        </tr>\n        <tr>\n            <td>Airport Commission     </td> <td>0               </td> <td>0                   </td> <td>0                               </td> <td>0                                       </td> <td>0                </td> <td>445092                                 </td>\n        </tr>\n        <tr>\n            <td>Art Commission         </td> <td>0               </td> <td>251823              </td> <td>0                               </td> <td>0                                       </td> <td>0                </td> <td>0                                      </td>\n        </tr>\n        <tr>\n            <td>Asian Art Museum       </td> <td>0               </td> <td>298230              </td> <td>0                               </td> <td>0                                       </td> <td>0                </td> <td>0                                      </td>\n        </tr>\n        <tr>\n            <td>Assessor               </td> <td>0               </td> <td>0                   </td> <td>277385                          </td> <td>0                                       </td> <td>0                </td> <td>0                                      </td>\n        </tr>\n        <tr>\n            <td>Board Of Appeals       </td> <td>0               </td> <td>0                   </td> <td>0                               </td> <td>0                                       </td> <td>0                </td> <td>243582                                 </td>\n        </tr>\n        <tr>\n            <td>Board Of Supervisors   </td> <td>0               </td> <td>0                   </td> <td>293773                          </td> <td>0                                       </td> <td>0                </td> <td>0                                      </td>\n        </tr>\n        <tr>\n            <td>Building Inspection    </td> <td>0               </td> <td>0                   </td> <td>0                               </td> <td>0                                       </td> <td>0                </td> <td>340852                                 </td>\n        </tr>\n    </tbody>\n</table>\n<p>... (41 rows omitted)</p>"
     },
     "execution_count": 76,
     "metadata": {},
     "output_type": "execute_result"
    }
   ],
   "source": [
    "# Define compensation_range first\n",
    "def compensation_range(array: iter):\n",
    "    return max(array) - min(array)\n",
    "\n",
    "\n",
    "department_ranges = sf.select('Department', 'Organization Group', 'Total Compensation').pivot('Organization Group', 'Department', values='Total Compensation', collect=compensation_range)\n",
    "department_ranges"
   ]
  },
  {
   "cell_type": "code",
   "execution_count": 77,
   "metadata": {
    "deletable": false,
    "editable": false
   },
   "outputs": [
    {
     "data": {
      "text/plain": "q2_3 results: All test cases passed!",
      "text/html": "<p><strong><pre style='display: inline;'>q2_3</pre></strong> passed!</p>"
     },
     "execution_count": 77,
     "metadata": {},
     "output_type": "execute_result"
    }
   ],
   "source": [
    "grader.check(\"q2_3\")"
   ]
  },
  {
   "cell_type": "markdown",
   "metadata": {
    "deletable": false,
    "editable": false
   },
   "source": [
    "<!-- BEGIN QUESTION -->\n",
    "\n",
    "**Question 4.** Give an explanation as to why some of the row values are `0` in the `department_ranges` table from the previous question. **(8 Points)**\n",
    "\n",
    "<!--\n",
    "BEGIN QUESTION\n",
    "name: q2_4\n",
    "manual: True\n",
    "-->"
   ]
  },
  {
   "cell_type": "markdown",
   "metadata": {},
   "source": [
    "_Type your answer here, replacing this text._\n",
    "Some department have no Department"
   ]
  },
  {
   "cell_type": "markdown",
   "metadata": {
    "deletable": false,
    "editable": false
   },
   "source": [
    "<!-- END QUESTION -->\n",
    "\n",
    "**Question 5.** Create a new table called `org_group_and_counts` with a column called `Organization Group` and a column called `count` for the number of departments within that organization group that have a total compensation average of above 125k dollars. If the department doesn't have any positions with a total compensation average of above 125k dollars, then it should not have a row in the final table. **(8 Points)**\n",
    "\n",
    "*Hint 1:* Use pen and paper to draw out the intermediate tables to answer this question. This question is difficult! The variable names provided are meant to help guide the intermediate steps and general thought process.\n",
    "\n",
    "*Hint 2:* Remember that you can group by multiple columns. Here's an example from the [textbook](https://www.inferentialthinking.com/chapters/08/3/Cross-Classifying_by_More_than_One_Variable.html).\n",
    "\n",
    "<!--\n",
    "BEGIN QUESTION\n",
    "name: q2_5\n",
    "manual: False\n",
    "points:\n",
    " - 2\n",
    " - 2\n",
    " - 4\n",
    "-->"
   ]
  },
  {
   "cell_type": "code",
   "execution_count": 91,
   "metadata": {},
   "outputs": [
    {
     "data": {
      "text/plain": "Organization Group                       | count\nCulture & Recreation                     | 2\nGeneral Administration & Finance         | 7\nHuman Welfare & Neighborhood Development | 4\nPublic Protection                        | 6\nPublic Works, Transportation & Commerce  | 4",
      "text/html": "<table border=\"1\" class=\"dataframe\">\n    <thead>\n        <tr>\n            <th>Organization Group</th> <th>count</th>\n        </tr>\n    </thead>\n    <tbody>\n        <tr>\n            <td>Culture & Recreation                    </td> <td>2    </td>\n        </tr>\n        <tr>\n            <td>General Administration & Finance        </td> <td>7    </td>\n        </tr>\n        <tr>\n            <td>Human Welfare & Neighborhood Development</td> <td>4    </td>\n        </tr>\n        <tr>\n            <td>Public Protection                       </td> <td>6    </td>\n        </tr>\n        <tr>\n            <td>Public Works, Transportation & Commerce </td> <td>4    </td>\n        </tr>\n    </tbody>\n</table>"
     },
     "execution_count": 91,
     "metadata": {},
     "output_type": "execute_result"
    }
   ],
   "source": [
    "no_job_titles = sf.select('Organization Group', 'Department', 'Total Compensation')\n",
    "comp_by_org_department = no_job_titles.group(['Organization Group', 'Department'], np.average)\n",
    "depts_above_125k = comp_by_org_department.where('Total Compensation average', are.above(125000)) # type: Table\n",
    "org_group_and_counts = depts_above_125k.select('Organization Group', 'Department').group('Organization Group')\n",
    "org_group_and_counts"
   ]
  },
  {
   "cell_type": "code",
   "execution_count": 92,
   "metadata": {
    "deletable": false,
    "editable": false
   },
   "outputs": [
    {
     "data": {
      "text/plain": "q2_5 results: All test cases passed!",
      "text/html": "<p><strong><pre style='display: inline;'>q2_5</pre></strong> passed!</p>"
     },
     "execution_count": 92,
     "metadata": {},
     "output_type": "execute_result"
    }
   ],
   "source": [
    "grader.check(\"q2_5\")"
   ]
  },
  {
   "cell_type": "markdown",
   "metadata": {},
   "source": [
    "You're done with Homework 4!  \n",
    "\n",
    "**Important submission steps:** \n",
    "1. Run the tests and verify that they all pass.\n",
    "2. Choose **Save and Checkpoint** from the **File** menu, then **run the final cell**. \n",
    "3. Click the link to download the zip file.\n",
    "4. Go to [Gradescope](https://www.gradescope.com/courses/288788) and submit the zip file to the corresponding assignment. The name of this assignment is \"Homework 4 Autograder\". \n",
    "\n",
    "**It is your responsibility to make sure your work is saved before running the last cell.**"
   ]
  },
  {
   "cell_type": "markdown",
   "metadata": {
    "deletable": false,
    "editable": false
   },
   "source": [
    "---\n",
    "\n",
    "To double-check your work, the cell below will rerun all of the autograder tests."
   ]
  },
  {
   "cell_type": "code",
   "execution_count": 93,
   "metadata": {
    "deletable": false,
    "editable": false
   },
   "outputs": [
    {
     "data": {
      "text/plain": "q1_1 results: All test cases passed!\n\nq1_2 results: All test cases passed!\n\nq1_4 results: All test cases passed!\n\nq1_5 results: All test cases passed!\n\nq1_6 results: All test cases passed!\n\nq1_8 results: All test cases passed!\n\nq2_1 results: All test cases passed!\n\nq2_3 results: All test cases passed!\n\nq2_5 results: All test cases passed!"
     },
     "execution_count": 93,
     "metadata": {},
     "output_type": "execute_result"
    }
   ],
   "source": [
    "grader.check_all()"
   ]
  },
  {
   "cell_type": "markdown",
   "metadata": {
    "deletable": false,
    "editable": false
   },
   "source": [
    "## Submission\n",
    "\n",
    "Make sure you have run all cells in your notebook in order before running the cell below, so that all images/graphs appear in the output. The cell below will generate a zip file for you to submit. **Please save before exporting!**"
   ]
  },
  {
   "cell_type": "code",
   "execution_count": null,
   "metadata": {
    "deletable": false,
    "editable": false
   },
   "outputs": [],
   "source": [
    "# Save your notebook first, then run this cell to export your submission.\n",
    "grader.export(pdf=False, force_save=True)"
   ]
  },
  {
   "cell_type": "markdown",
   "metadata": {},
   "source": [
    " "
   ]
  }
 ],
 "metadata": {
  "kernelspec": {
   "display_name": "Python 3",
   "language": "python",
   "name": "python3"
  },
  "language_info": {
   "codemirror_mode": {
    "name": "ipython",
    "version": 3
   },
   "file_extension": ".py",
   "mimetype": "text/x-python",
   "name": "python",
   "nbconvert_exporter": "python",
   "pygments_lexer": "ipython3",
   "version": "3.7.6"
  }
 },
 "nbformat": 4,
 "nbformat_minor": 5
}